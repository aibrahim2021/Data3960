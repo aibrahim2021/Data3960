{
 "cells": [
  {
   "attachments": {},
   "cell_type": "markdown",
   "metadata": {},
   "source": [
    "# Part 2: Regression"
   ]
  },
  {
   "cell_type": "code",
   "execution_count": 137,
   "metadata": {},
   "outputs": [],
   "source": [
    "import numpy as np\n",
    "import matplotlib.pyplot as plt\n",
    "import pandas as pd\n",
    "import seaborn as sns\n",
    "\n",
    "from sklearn.linear_model import LinearRegression, LogisticRegression, Lasso, Ridge, ElasticNet\n",
    "from sklearn.preprocessing import PolynomialFeatures\n",
    "from sklearn.linear_model import SGDRegressor\n",
    "from sklearn.svm import SVR\n",
    "\n",
    "from sklearn.tree import DecisionTreeRegressor, DecisionTreeClassifier\n",
    "from sklearn.ensemble import RandomForestRegressor, RandomForestClassifier\n",
    "from sklearn.preprocessing import MinMaxScaler, StandardScaler, OneHotEncoder, OrdinalEncoder\n",
    "from sklearn.feature_selection import RFECV, RFE\n",
    "\n",
    "import math\n",
    "from sklearn.preprocessing import FunctionTransformer\n",
    "from sklearn.compose import ColumnTransformer, TransformedTargetRegressor\n",
    "\n",
    "from sklearn.pipeline import Pipeline\n",
    "from sklearn.compose import ColumnTransformer\n",
    "\n",
    "from sklearn.metrics import mean_squared_error, classification_report, confusion_matrix, accuracy_score, r2_score, mean_absolute_error\n",
    "from sklearn.model_selection import train_test_split\n",
    "from sklearn.model_selection import cross_val_score\n",
    "\n",
    "from sklearn.model_selection import GridSearchCV"
   ]
  },
  {
   "attachments": {},
   "cell_type": "markdown",
   "metadata": {},
   "source": [
    "Upload the Clean_File.csv from Part 1."
   ]
  },
  {
   "cell_type": "code",
   "execution_count": 138,
   "metadata": {},
   "outputs": [
    {
     "data": {
      "text/html": [
       "<div>\n",
       "<style scoped>\n",
       "    .dataframe tbody tr th:only-of-type {\n",
       "        vertical-align: middle;\n",
       "    }\n",
       "\n",
       "    .dataframe tbody tr th {\n",
       "        vertical-align: top;\n",
       "    }\n",
       "\n",
       "    .dataframe thead th {\n",
       "        text-align: right;\n",
       "    }\n",
       "</style>\n",
       "<table border=\"1\" class=\"dataframe\">\n",
       "  <thead>\n",
       "    <tr style=\"text-align: right;\">\n",
       "      <th></th>\n",
       "      <th>count</th>\n",
       "      <th>unique</th>\n",
       "      <th>top</th>\n",
       "      <th>freq</th>\n",
       "      <th>mean</th>\n",
       "      <th>std</th>\n",
       "      <th>min</th>\n",
       "      <th>25%</th>\n",
       "      <th>50%</th>\n",
       "      <th>75%</th>\n",
       "      <th>max</th>\n",
       "    </tr>\n",
       "  </thead>\n",
       "  <tbody>\n",
       "    <tr>\n",
       "      <th>Unnamed: 0</th>\n",
       "      <td>1243.0</td>\n",
       "      <td>NaN</td>\n",
       "      <td>NaN</td>\n",
       "      <td>NaN</td>\n",
       "      <td>625.148833</td>\n",
       "      <td>362.595894</td>\n",
       "      <td>0.0</td>\n",
       "      <td>310.5</td>\n",
       "      <td>625.0</td>\n",
       "      <td>939.5</td>\n",
       "      <td>1252.0</td>\n",
       "    </tr>\n",
       "    <tr>\n",
       "      <th>Age</th>\n",
       "      <td>1243.0</td>\n",
       "      <td>NaN</td>\n",
       "      <td>NaN</td>\n",
       "      <td>NaN</td>\n",
       "      <td>32.489139</td>\n",
       "      <td>5.583692</td>\n",
       "      <td>21.0</td>\n",
       "      <td>29.0</td>\n",
       "      <td>32.0</td>\n",
       "      <td>35.0</td>\n",
       "      <td>69.0</td>\n",
       "    </tr>\n",
       "    <tr>\n",
       "      <th>Gender</th>\n",
       "      <td>1243</td>\n",
       "      <td>3</td>\n",
       "      <td>Male</td>\n",
       "      <td>1045</td>\n",
       "      <td>NaN</td>\n",
       "      <td>NaN</td>\n",
       "      <td>NaN</td>\n",
       "      <td>NaN</td>\n",
       "      <td>NaN</td>\n",
       "      <td>NaN</td>\n",
       "      <td>NaN</td>\n",
       "    </tr>\n",
       "    <tr>\n",
       "      <th>City</th>\n",
       "      <td>1243</td>\n",
       "      <td>2</td>\n",
       "      <td>From_Germany</td>\n",
       "      <td>1100</td>\n",
       "      <td>NaN</td>\n",
       "      <td>NaN</td>\n",
       "      <td>NaN</td>\n",
       "      <td>NaN</td>\n",
       "      <td>NaN</td>\n",
       "      <td>NaN</td>\n",
       "      <td>NaN</td>\n",
       "    </tr>\n",
       "    <tr>\n",
       "      <th>Position</th>\n",
       "      <td>1243</td>\n",
       "      <td>5</td>\n",
       "      <td>Software Engineer/Developer</td>\n",
       "      <td>870</td>\n",
       "      <td>NaN</td>\n",
       "      <td>NaN</td>\n",
       "      <td>NaN</td>\n",
       "      <td>NaN</td>\n",
       "      <td>NaN</td>\n",
       "      <td>NaN</td>\n",
       "      <td>NaN</td>\n",
       "    </tr>\n",
       "    <tr>\n",
       "      <th>Total_yrs_Exp</th>\n",
       "      <td>1243.0</td>\n",
       "      <td>NaN</td>\n",
       "      <td>NaN</td>\n",
       "      <td>NaN</td>\n",
       "      <td>9.044608</td>\n",
       "      <td>11.823958</td>\n",
       "      <td>0.0</td>\n",
       "      <td>5.0</td>\n",
       "      <td>8.0</td>\n",
       "      <td>12.0</td>\n",
       "      <td>383.0</td>\n",
       "    </tr>\n",
       "    <tr>\n",
       "      <th>German_Exp</th>\n",
       "      <td>1243.0</td>\n",
       "      <td>NaN</td>\n",
       "      <td>NaN</td>\n",
       "      <td>NaN</td>\n",
       "      <td>3.69469</td>\n",
       "      <td>3.561588</td>\n",
       "      <td>0.0</td>\n",
       "      <td>1.25</td>\n",
       "      <td>3.0</td>\n",
       "      <td>5.0</td>\n",
       "      <td>30.0</td>\n",
       "    </tr>\n",
       "    <tr>\n",
       "      <th>Seniority_level</th>\n",
       "      <td>1243</td>\n",
       "      <td>4</td>\n",
       "      <td>Senior</td>\n",
       "      <td>785</td>\n",
       "      <td>NaN</td>\n",
       "      <td>NaN</td>\n",
       "      <td>NaN</td>\n",
       "      <td>NaN</td>\n",
       "      <td>NaN</td>\n",
       "      <td>NaN</td>\n",
       "      <td>NaN</td>\n",
       "    </tr>\n",
       "    <tr>\n",
       "      <th>Main_Backgrnd</th>\n",
       "      <td>1243</td>\n",
       "      <td>4</td>\n",
       "      <td>Other</td>\n",
       "      <td>720</td>\n",
       "      <td>NaN</td>\n",
       "      <td>NaN</td>\n",
       "      <td>NaN</td>\n",
       "      <td>NaN</td>\n",
       "      <td>NaN</td>\n",
       "      <td>NaN</td>\n",
       "      <td>NaN</td>\n",
       "    </tr>\n",
       "    <tr>\n",
       "      <th>Other_Backgrnd</th>\n",
       "      <td>1243</td>\n",
       "      <td>10</td>\n",
       "      <td>Other</td>\n",
       "      <td>896</td>\n",
       "      <td>NaN</td>\n",
       "      <td>NaN</td>\n",
       "      <td>NaN</td>\n",
       "      <td>NaN</td>\n",
       "      <td>NaN</td>\n",
       "      <td>NaN</td>\n",
       "      <td>NaN</td>\n",
       "    </tr>\n",
       "    <tr>\n",
       "      <th>Vac_days</th>\n",
       "      <td>1243.0</td>\n",
       "      <td>NaN</td>\n",
       "      <td>NaN</td>\n",
       "      <td>NaN</td>\n",
       "      <td>28.285197</td>\n",
       "      <td>10.20136</td>\n",
       "      <td>0.0</td>\n",
       "      <td>27.0</td>\n",
       "      <td>28.0</td>\n",
       "      <td>30.0</td>\n",
       "      <td>365.0</td>\n",
       "    </tr>\n",
       "    <tr>\n",
       "      <th>Empl_Status</th>\n",
       "      <td>1243</td>\n",
       "      <td>4</td>\n",
       "      <td>Full_time</td>\n",
       "      <td>1190</td>\n",
       "      <td>NaN</td>\n",
       "      <td>NaN</td>\n",
       "      <td>NaN</td>\n",
       "      <td>NaN</td>\n",
       "      <td>NaN</td>\n",
       "      <td>NaN</td>\n",
       "      <td>NaN</td>\n",
       "    </tr>\n",
       "    <tr>\n",
       "      <th>Contract_duration</th>\n",
       "      <td>1243</td>\n",
       "      <td>2</td>\n",
       "      <td>Unlimited contract</td>\n",
       "      <td>1180</td>\n",
       "      <td>NaN</td>\n",
       "      <td>NaN</td>\n",
       "      <td>NaN</td>\n",
       "      <td>NaN</td>\n",
       "      <td>NaN</td>\n",
       "      <td>NaN</td>\n",
       "      <td>NaN</td>\n",
       "    </tr>\n",
       "    <tr>\n",
       "      <th>Main_Work_Lang</th>\n",
       "      <td>1243</td>\n",
       "      <td>3</td>\n",
       "      <td>English</td>\n",
       "      <td>1022</td>\n",
       "      <td>NaN</td>\n",
       "      <td>NaN</td>\n",
       "      <td>NaN</td>\n",
       "      <td>NaN</td>\n",
       "      <td>NaN</td>\n",
       "      <td>NaN</td>\n",
       "      <td>NaN</td>\n",
       "    </tr>\n",
       "    <tr>\n",
       "      <th>Company_size</th>\n",
       "      <td>1243</td>\n",
       "      <td>3</td>\n",
       "      <td>Large</td>\n",
       "      <td>865</td>\n",
       "      <td>NaN</td>\n",
       "      <td>NaN</td>\n",
       "      <td>NaN</td>\n",
       "      <td>NaN</td>\n",
       "      <td>NaN</td>\n",
       "      <td>NaN</td>\n",
       "      <td>NaN</td>\n",
       "    </tr>\n",
       "    <tr>\n",
       "      <th>Company_type</th>\n",
       "      <td>1243</td>\n",
       "      <td>4</td>\n",
       "      <td>Product</td>\n",
       "      <td>768</td>\n",
       "      <td>NaN</td>\n",
       "      <td>NaN</td>\n",
       "      <td>NaN</td>\n",
       "      <td>NaN</td>\n",
       "      <td>NaN</td>\n",
       "      <td>NaN</td>\n",
       "      <td>NaN</td>\n",
       "    </tr>\n",
       "    <tr>\n",
       "      <th>Target</th>\n",
       "      <td>1243.0</td>\n",
       "      <td>NaN</td>\n",
       "      <td>NaN</td>\n",
       "      <td>NaN</td>\n",
       "      <td>83479.288479</td>\n",
       "      <td>50622.164524</td>\n",
       "      <td>10001.0</td>\n",
       "      <td>60000.0</td>\n",
       "      <td>73000.0</td>\n",
       "      <td>90000.0</td>\n",
       "      <td>1240000.0</td>\n",
       "    </tr>\n",
       "  </tbody>\n",
       "</table>\n",
       "</div>"
      ],
      "text/plain": [
       "                    count unique                          top  freq  \\\n",
       "Unnamed: 0         1243.0    NaN                          NaN   NaN   \n",
       "Age                1243.0    NaN                          NaN   NaN   \n",
       "Gender               1243      3                         Male  1045   \n",
       "City                 1243      2                 From_Germany  1100   \n",
       "Position             1243      5  Software Engineer/Developer   870   \n",
       "Total_yrs_Exp      1243.0    NaN                          NaN   NaN   \n",
       "German_Exp         1243.0    NaN                          NaN   NaN   \n",
       "Seniority_level      1243      4                       Senior   785   \n",
       "Main_Backgrnd        1243      4                        Other   720   \n",
       "Other_Backgrnd       1243     10                        Other   896   \n",
       "Vac_days           1243.0    NaN                          NaN   NaN   \n",
       "Empl_Status          1243      4                    Full_time  1190   \n",
       "Contract_duration    1243      2           Unlimited contract  1180   \n",
       "Main_Work_Lang       1243      3                      English  1022   \n",
       "Company_size         1243      3                        Large   865   \n",
       "Company_type         1243      4                      Product   768   \n",
       "Target             1243.0    NaN                          NaN   NaN   \n",
       "\n",
       "                           mean           std      min      25%      50%  \\\n",
       "Unnamed: 0           625.148833    362.595894      0.0    310.5    625.0   \n",
       "Age                   32.489139      5.583692     21.0     29.0     32.0   \n",
       "Gender                      NaN           NaN      NaN      NaN      NaN   \n",
       "City                        NaN           NaN      NaN      NaN      NaN   \n",
       "Position                    NaN           NaN      NaN      NaN      NaN   \n",
       "Total_yrs_Exp          9.044608     11.823958      0.0      5.0      8.0   \n",
       "German_Exp              3.69469      3.561588      0.0     1.25      3.0   \n",
       "Seniority_level             NaN           NaN      NaN      NaN      NaN   \n",
       "Main_Backgrnd               NaN           NaN      NaN      NaN      NaN   \n",
       "Other_Backgrnd              NaN           NaN      NaN      NaN      NaN   \n",
       "Vac_days              28.285197      10.20136      0.0     27.0     28.0   \n",
       "Empl_Status                 NaN           NaN      NaN      NaN      NaN   \n",
       "Contract_duration           NaN           NaN      NaN      NaN      NaN   \n",
       "Main_Work_Lang              NaN           NaN      NaN      NaN      NaN   \n",
       "Company_size                NaN           NaN      NaN      NaN      NaN   \n",
       "Company_type                NaN           NaN      NaN      NaN      NaN   \n",
       "Target             83479.288479  50622.164524  10001.0  60000.0  73000.0   \n",
       "\n",
       "                       75%        max  \n",
       "Unnamed: 0           939.5     1252.0  \n",
       "Age                   35.0       69.0  \n",
       "Gender                 NaN        NaN  \n",
       "City                   NaN        NaN  \n",
       "Position               NaN        NaN  \n",
       "Total_yrs_Exp         12.0      383.0  \n",
       "German_Exp             5.0       30.0  \n",
       "Seniority_level        NaN        NaN  \n",
       "Main_Backgrnd          NaN        NaN  \n",
       "Other_Backgrnd         NaN        NaN  \n",
       "Vac_days              30.0      365.0  \n",
       "Empl_Status            NaN        NaN  \n",
       "Contract_duration      NaN        NaN  \n",
       "Main_Work_Lang         NaN        NaN  \n",
       "Company_size           NaN        NaN  \n",
       "Company_type           NaN        NaN  \n",
       "Target             90000.0  1240000.0  "
      ]
     },
     "execution_count": 138,
     "metadata": {},
     "output_type": "execute_result"
    }
   ],
   "source": [
    "#Load the cleaned Data file from Part 1\n",
    "df_new = pd.read_csv(\"clean_File.csv\")\n",
    "df_new.describe(include=\"all\").T"
   ]
  },
  {
   "cell_type": "code",
   "execution_count": 139,
   "metadata": {},
   "outputs": [
    {
     "data": {
      "text/plain": [
       "Index(['Age', 'Gender', 'City', 'Position', 'Total_yrs_Exp', 'German_Exp',\n",
       "       'Seniority_level', 'Main_Backgrnd', 'Other_Backgrnd', 'Vac_days',\n",
       "       'Empl_Status', 'Contract_duration', 'Main_Work_Lang', 'Company_size',\n",
       "       'Company_type', 'Target'],\n",
       "      dtype='object')"
      ]
     },
     "execution_count": 139,
     "metadata": {},
     "output_type": "execute_result"
    }
   ],
   "source": [
    "df_new.drop(columns=['Unnamed: 0'], axis=1, inplace=True)\n",
    "df_new.columns"
   ]
  },
  {
   "cell_type": "code",
   "execution_count": 140,
   "metadata": {},
   "outputs": [
    {
     "name": "stdout",
     "output_type": "stream",
     "text": [
      "<class 'pandas.core.frame.DataFrame'>\n",
      "RangeIndex: 1243 entries, 0 to 1242\n",
      "Data columns (total 16 columns):\n",
      " #   Column             Non-Null Count  Dtype   \n",
      "---  ------             --------------  -----   \n",
      " 0   Age                1243 non-null   float64 \n",
      " 1   Gender             1243 non-null   category\n",
      " 2   City               1243 non-null   category\n",
      " 3   Position           1243 non-null   category\n",
      " 4   Total_yrs_Exp      1243 non-null   float64 \n",
      " 5   German_Exp         1243 non-null   float64 \n",
      " 6   Seniority_level    1243 non-null   category\n",
      " 7   Main_Backgrnd      1243 non-null   category\n",
      " 8   Other_Backgrnd     1243 non-null   category\n",
      " 9   Vac_days           1243 non-null   float64 \n",
      " 10  Empl_Status        1243 non-null   category\n",
      " 11  Contract_duration  1243 non-null   category\n",
      " 12  Main_Work_Lang     1243 non-null   category\n",
      " 13  Company_size       1243 non-null   category\n",
      " 14  Company_type       1243 non-null   category\n",
      " 15  Target             1243 non-null   float64 \n",
      "dtypes: category(11), float64(5)\n",
      "memory usage: 64.0 KB\n"
     ]
    }
   ],
   "source": [
    "# Convert Object columns to Categorical Columns\n",
    "for col in (df_new.select_dtypes(exclude=[np.number]).columns):\n",
    "    df_new[col]=df_new[col].astype('category')\n",
    "\n",
    "    \n",
    "df_new.info()"
   ]
  },
  {
   "attachments": {},
   "cell_type": "markdown",
   "metadata": {},
   "source": [
    "For Practice and fun of PYTHON: Best Regression to use?"
   ]
  },
  {
   "cell_type": "code",
   "execution_count": 141,
   "metadata": {},
   "outputs": [],
   "source": [
    "# Building on the Classification Function (DTorFR) from my Assignemnt 1 and converting it into Regression and adding more regressors:\n",
    "\n",
    "# Create a Function to find the best Regression model for our dataframe\n",
    "# Regressors used are:\n",
    "# DecisionTree Regressor()\n",
    "# Random Forest Regressor()\n",
    "# Linear Regression\n",
    "# SupportVectorMachine:SVM()\n",
    "# Lasso()\n",
    "# Ridge()\n",
    "# ElasticNet()\n",
    "\n",
    "\n",
    "def Best_Regression_Model(data, target, n_trials):\n",
    "\n",
    "    X = data.drop(columns={target})\n",
    "    y = data[target]\n",
    "\n",
    "    #X = (df.drop(columns={target})).values\n",
    "    print('X Shape:',X.shape)\n",
    "    #y = (df[target]).values\n",
    "    print('Y Shape:',y.shape)\n",
    "\n",
    "    # Split data between\n",
    "    X_train, X_test, y_train, y_test = train_test_split(X, y, test_size=.33, random_state=42)\n",
    "\n",
    "    # Initialize Pipeline to transform Dataframe\n",
    "\n",
    "        # Numerical Columns\n",
    "    numeric_features = X_train.select_dtypes(include=[np.number]).columns # Using X_train, so does not include Target column\n",
    "    #numeric_transformer = StandardScaler()\n",
    "    numeric_transformer = MinMaxScaler()\n",
    "    # The MinMaxscaler is a type of scaler that scales the minimum and maximum values to be 0 and 1 respectively. \n",
    "    # While the StandardScaler scales all values between min and max so that they fall within a range from min to max\n",
    "    # I hav decided to use the StandardScaler() for our case.\n",
    "\n",
    "        # Categorical\n",
    "    categorical_features = X_train.select_dtypes(exclude=[np.number]).columns\n",
    "    categorical_transformer = OneHotEncoder(handle_unknown='ignore') # fix for getting Value error\n",
    "\n",
    "        # Preprocessor\n",
    "    preprocessor = ColumnTransformer(transformers=[\n",
    "            ('num', numeric_transformer, numeric_features),\n",
    "            ('cat', categorical_transformer, categorical_features)])\n",
    "    \n",
    "        # Create Pipeline\n",
    "    pipeline=Pipeline([('preprocessor', preprocessor)])\n",
    "\n",
    "            # fit pipeline to the training data\n",
    "    pipeline.fit(X_train)\n",
    "\n",
    "        # transform the train and test data\n",
    "    X_train_transformed = pipeline.transform(X_train)\n",
    "    X_test_transformed = pipeline.transform(X_test)\n",
    "\n",
    "\n",
    "\n",
    "    # create lists to compile & capture the accuracies for each tree\n",
    "    dt_accuracies = [] \n",
    "    rf_accuracies = []\n",
    "    lr_accuracies=[]\n",
    "    svm_accuracies=[]\n",
    "    lss_accuracies=[]\n",
    "    ridge_accuracies=[]\n",
    "    el_accuracies=[]\n",
    "\n",
    "       \n",
    "    for i in range(n_trials):\n",
    "        # Decision Tree Regressor\n",
    "        dt=DecisionTreeRegressor() # randon_state=0 to keep the same results\n",
    "        dt.fit(X_train_transformed, y_train)\n",
    "        dt_pred=dt.predict(X_test_transformed)\n",
    "        dt_acc=mean_squared_error(y_test, dt_pred)\n",
    "        dt_accuracies.append(dt_acc)\n",
    "\n",
    "        # Random Forest Regressor\n",
    "        rf = RandomForestRegressor()\n",
    "        rf.fit(X_train_transformed, y_train)\n",
    "        rf_pred = rf.predict(X_test_transformed)\n",
    "        rf_acc = mean_squared_error(y_test, rf_pred)\n",
    "        rf_accuracies.append(rf_acc)\n",
    "\n",
    "        # Linea Regression\n",
    "        lr=LinearRegression()\n",
    "        lr.fit(X_train_transformed, y_train)\n",
    "        lr_pred = lr.predict(X_test_transformed)\n",
    "        lr_acc = mean_squared_error(y_test, lr_pred)\n",
    "        lr_accuracies.append(lr_acc)\n",
    "\n",
    "        # SVM\n",
    "        svm=SVR()\n",
    "        svm.fit(X_train_transformed, y_train)\n",
    "        svm_pred = svm.predict(X_test_transformed)\n",
    "        svm_acc = mean_squared_error(y_test, svm_pred)\n",
    "        svm_accuracies.append(svm_acc)     \n",
    "\n",
    "        # Lasso\n",
    "        lss=Lasso(max_iter=10000)\n",
    "        lss.fit(X_train_transformed, y_train)\n",
    "        lss_pred = lss.predict(X_test_transformed)\n",
    "        lss_acc = mean_squared_error(y_test, lss_pred)\n",
    "        lss_accuracies.append(lss_acc)\n",
    "\n",
    "        # Ridge\n",
    "        ridge=Ridge(max_iter=10000)\n",
    "        ridge.fit(X_train_transformed, y_train)\n",
    "        ridge_pred = ridge.predict(X_test_transformed)\n",
    "        ridge_acc = mean_squared_error(y_test, ridge_pred)\n",
    "        ridge_accuracies.append(ridge_acc)\n",
    "\n",
    "        # ElasticNet\n",
    "        elastic=ElasticNet(max_iter=10000)\n",
    "        elastic.fit(X_train_transformed, y_train)\n",
    "        elastic_pred = elastic.predict(X_test_transformed)\n",
    "        elastic_acc = mean_squared_error(y_test, elastic_pred)\n",
    "        el_accuracies.append(elastic_acc)\n",
    " \n",
    " \n",
    "    # print the mean accuracy for each model\n",
    "    # Calculating the mean of the all accuracies from trails.\n",
    "    print(f\"At default settings, Decision Tree AVG RMSE after {n_trials} runs: \", round(math.sqrt(np.mean(dt_accuracies)), 3)) \n",
    "    print(f\"At default settings, Random Forest RMSE after {n_trials} runs: \", round(math.sqrt(np.mean(rf_accuracies)), 3))\n",
    "    print(f\"At default settings, Linear Regression AVG RMSE after {n_trials} runs: \", round(math.sqrt(np.mean(lr_accuracies)), 3))\n",
    "    print(f\"At default settings, SVM AVG RMSE after {n_trials} runs: \", round(math.sqrt(np.mean(svm_accuracies)), 3))\n",
    "    print(f\"At default settings, Lasso AVG RMSE after {n_trials} runs: \", round(math.sqrt(np.mean(lss_accuracies)), 3))\n",
    "    print(f\"At default settings, Ridge AVG RMSE after {n_trials} runs: \", round(math.sqrt(np.mean(ridge_accuracies)), 3))\n",
    "    print(f\"At default settings, ElasticNet AVG RMSE after {n_trials} runs: \", round(math.sqrt(np.mean(el_accuracies)), 3))\n",
    "\n",
    "    dict={'Decision Tree Regressor': round(math.sqrt(np.mean(dt_accuracies)), 3), 'Random Forest Regressor': round(math.sqrt(np.mean(rf_accuracies)), 3),\n",
    "                    'Linear Regression': round(math.sqrt(np.mean(lr_accuracies)), 3),'Support Vector Machine':round(math.sqrt(np.mean(svm_accuracies)), 3),\n",
    "                    'Lasso': round(math.sqrt(np.mean(lss_accuracies)), 3),'Ridge': round(math.sqrt(np.mean(ridge_accuracies)), 3),\n",
    "                    'ElasticNet': round(math.sqrt(np.mean(el_accuracies)), 3)}\n",
    "   \n",
    "\n",
    "    print()\n",
    "    print(\"The Lesser the RMSE the BETTER the model\")\n",
    "    print()\n",
    "    print('Best Model with the lesser RMSE Score is: ', min(dict.items(), key=lambda x: x[1]))\n",
    "    \n",
    "    return"
   ]
  },
  {
   "cell_type": "code",
   "execution_count": 33,
   "metadata": {},
   "outputs": [
    {
     "name": "stdout",
     "output_type": "stream",
     "text": [
      "X Shape: (1243, 15)\n",
      "Y Shape: (1243,)\n",
      "At default settings, Decision Tree AVG RMSE after 5 runs:  52724.837\n",
      "At default settings, Random Forest RMSE after 5 runs:  40497.289\n",
      "At default settings, Linear Regression AVG RMSE after 5 runs:  36557.769\n",
      "At default settings, SVM AVG RMSE after 5 runs:  40915.865\n",
      "At default settings, Lasso AVG RMSE after 5 runs:  36786.162\n",
      "At default settings, Ridge AVG RMSE after 5 runs:  36577.674\n",
      "At default settings, ElasticNet AVG RMSE after 5 runs:  36582.387\n",
      "\n",
      "The Lesser the RMSE the BETTER the model\n",
      "\n",
      "Best Model with the lesser RMSE Score is:  ('Linear Regression', 36557.769)\n"
     ]
    }
   ],
   "source": [
    "# My Result\n",
    "\n",
    "# Best_Regression_Model(df_new, 'Target', 5) #using MinMaxScaler()"
   ]
  },
  {
   "cell_type": "code",
   "execution_count": null,
   "metadata": {},
   "outputs": [],
   "source": [
    "# For Akeem\n",
    "Best_Regression_Model(df_new, 'Target', 5)"
   ]
  },
  {
   "attachments": {},
   "cell_type": "markdown",
   "metadata": {},
   "source": [
    "## Feature Selection using the most popular method called RFE (Recursive Feature Elimination) but with CV( Cross-Validation): RFECV"
   ]
  },
  {
   "attachments": {},
   "cell_type": "markdown",
   "metadata": {},
   "source": [
    "RFE is popular because it is easy to configure and use and because it is effective at selecting those features (columns) in a training dataset that are more or most relevant in predicting the target variable.\n",
    "https://machinelearningmastery.com/rfe-feature-selection-in-python/"
   ]
  },
  {
   "attachments": {},
   "cell_type": "markdown",
   "metadata": {},
   "source": [
    "We will use the most popular method, Random Forest Regression or Random Forest Classification as the model for Feature Selection.\n",
    "However, to get the best deal, we would need to find the best (hyper)Parameters for the model via GridsearchCV."
   ]
  },
  {
   "attachments": {},
   "cell_type": "markdown",
   "metadata": {},
   "source": [
    "Lets take a quick look at the feature importance chart using the RandomForest Regressor"
   ]
  },
  {
   "cell_type": "code",
   "execution_count": 159,
   "metadata": {},
   "outputs": [
    {
     "data": {
      "image/png": "[encoded data removed]",
      "text/plain": [
       "<Figure size 640x480 with 1 Axes>"
      ]
     },
     "metadata": {},
     "output_type": "display_data"
    }
   ],
   "source": [
    "y = ((df_new['Target']))\n",
    "X = df_new.drop(columns={'Target'})\n",
    "\n",
    "X_train, X_test, y_train, y_test = train_test_split(X,y)\n",
    "\n",
    "#view transformed values\n",
    "#print(y_transformed)\n",
    "\n",
    "        # Numerical Columns\n",
    "numeric_features = ['Age', 'Total_yrs_Exp', 'German_Exp', 'Vac_days'] # Using X_train, so does not include Target column\n",
    "numeric_transformer = StandardScaler()\n",
    "    # The MinMaxscaler is a type of scaler that scales the minimum and maximum values to be 0 and 1 respectively. \n",
    "    # While the StandardScaler scales all values between min and max so that they fall within a range from min to max\n",
    "    # I hav decided to use the StandardScaler() for our case.\n",
    "\n",
    "    # Categorical\n",
    "categorical_features = ['Gender', 'City', 'Position', 'Seniority_level', 'Main_Backgrnd',\n",
    "       'Other_Backgrnd', 'Empl_Status', 'Contract_duration', 'Main_Work_Lang',\n",
    "       'Company_size', 'Company_type']\n",
    "categorical_transformer = OneHotEncoder()\n",
    "\n",
    "    # Preprocessor\n",
    "preprocessor = ColumnTransformer(transformers=[\n",
    "            ('num', numeric_transformer, numeric_features),\n",
    "            ('cat', categorical_transformer, categorical_features)])\n",
    "\n",
    "# From: https://www.yourdatateacher.com/2021/10/11/feature-selection-with-random-forest/#:~:text=Feature%20selection%20in%20Python%20using%20Random%20Forest&text=Let's%20first%20import%20all%20the,matplotlib%20for%20visualizing%20our%20results.&text=First%2C%20let's%20load%20our%20dataset.&text=Now%20we%20can%20split%20it%20into%20training%20and%20test.\n",
    "\n",
    "rf = RandomForestRegressor(n_jobs=-1)\n",
    "pipeline2=Pipeline([('preprocessor', preprocessor), ('fs', rf)])\n",
    "\n",
    "pipeline2.fit(X,y)\n",
    "\n",
    "f_i = list(zip(X.columns,rf.feature_importances_))\n",
    "f_i.sort(key = lambda x : x[1])\n",
    "plt.barh([x[0] for x in f_i],[x[1] for x in f_i])\n",
    "plt.title('Feature Selection using Random Forest Regressor without Hyperparameter Tunning')\n",
    "\n",
    "plt.show()"
   ]
  },
  {
   "cell_type": "code",
   "execution_count": 142,
   "metadata": {},
   "outputs": [],
   "source": [
    "# Random Forest grinsearchCV to get the optimum hyperparameters.\n",
    "# This function is only for Random Forest Regression\n",
    "def RF_gridSEARCH(data, target):\n",
    "\n",
    "    X = data.drop(columns={target})\n",
    "    y = data[target]\n",
    "\n",
    "    # Split data between\n",
    "    X_train, X_test, y_train, y_test = train_test_split(X, y, test_size=.33, random_state=42)\n",
    "\n",
    "    # Initialize Pipeline to transform Dataframe\n",
    "\n",
    "        # Numerical Columns\n",
    "    numeric_features = X_train.select_dtypes(include=[np.number]).columns # Using X_train, so does not include Target column\n",
    "    #numeric_transformer = StandardScaler()\n",
    "    numeric_transformer = MinMaxScaler()\n",
    "    # The MinMaxscaler is a type of scaler that scales the minimum and maximum values to be 0 and 1 respectively. \n",
    "    # While the StandardScaler scales all values between min and max so that they fall within a range from min to max\n",
    "    # I hav decided to use the StandardScaler() for our case.\n",
    "\n",
    "        # Categorical\n",
    "    categorical_features = X_train.select_dtypes(exclude=[np.number]).columns\n",
    "    categorical_transformer = OneHotEncoder(handle_unknown='ignore') # fix for value error from unknow=handle_unknown='ignore'\n",
    "\n",
    "        # Preprocessor\n",
    "    preprocessor = ColumnTransformer(transformers=[\n",
    "            ('num', numeric_transformer, numeric_features),\n",
    "            ('cat', categorical_transformer, categorical_features)])\n",
    "\n",
    "    # Model used:\n",
    "    model=RandomForestRegressor(n_jobs=-1)\n",
    "\n",
    "    # Initiate/construct Pipeline\n",
    "    pipeline=Pipeline([('preprocessor', preprocessor), ('rf', model)])\n",
    "\n",
    "    # specify the hyperparameters to tune\n",
    "    rf_grid = {'rf__n_estimators': [90,100, 200, 250],\n",
    "                'rf__max_depth': [5, 6],\n",
    "                    'rf__min_samples_split': [3, 4, 5],\n",
    "                        'rf__max_samples': [0.05,0.055,0.1, 0.12]}\n",
    "\n",
    "    # Create gridsearchcv object with pipeline\n",
    "    # scoring='r2' if using using Regression.\n",
    "    # scoring='accuracy' if using classification\n",
    "    #cv=10 Cross-validation set at 7\n",
    "    grid = GridSearchCV(pipeline, param_grid=rf_grid, scoring='r2', cv=5) \n",
    "\n",
    "    # fit grid to the training data\n",
    "    grid.fit(X_train, y_train)\n",
    "\n",
    "    # display the best_params_ and best_score_\n",
    "    print(\"Best parameters: \", grid.best_params_)\n",
    "    print(\"Best R2 Score: \", np.abs(grid.best_score_))\n",
    "    return grid.best_params_"
   ]
  },
  {
   "cell_type": "code",
   "execution_count": 41,
   "metadata": {},
   "outputs": [
    {
     "name": "stdout",
     "output_type": "stream",
     "text": [
      "Best parameters:  {'rf__max_depth': 6, 'rf__max_samples': 0.3, 'rf__min_samples_split': 8, 'rf__n_estimators': 75}\n",
      "Best R2 Score:  0.1260590374631748\n"
     ]
    },
    {
     "data": {
      "text/plain": [
       "{'rf__max_depth': 6,\n",
       " 'rf__max_samples': 0.3,\n",
       " 'rf__min_samples_split': 8,\n",
       " 'rf__n_estimators': 75}"
      ]
     },
     "execution_count": 41,
     "metadata": {},
     "output_type": "execute_result"
    }
   ],
   "source": [
    "# Test 1 using:\n",
    "    #rf_grid = {'rf__n_estimators': [1, 50, 75, 80, 100, 200, 250, 300],\n",
    "                #'rf__max_depth': [3, 4, 5, 6],\n",
    "                    #'rf__min_samples_split': [2, 4, 6, 8],\n",
    "                        #'rf__max_samples': [0.2,.3, .4, .5, .6, .7]}\n",
    "                        \n",
    "#RF_gridSEARCH(df_new, 'Target') "
   ]
  },
  {
   "cell_type": "code",
   "execution_count": 44,
   "metadata": {},
   "outputs": [
    {
     "name": "stdout",
     "output_type": "stream",
     "text": [
      "Best parameters:  {'rf__max_depth': 5, 'rf__max_samples': 0.1, 'rf__min_samples_split': 5, 'rf__n_estimators': 80}\n",
      "Best R2 Score:  0.11276146784684875\n"
     ]
    },
    {
     "data": {
      "text/plain": [
       "{'rf__max_depth': 5,\n",
       " 'rf__max_samples': 0.1,\n",
       " 'rf__min_samples_split': 5,\n",
       " 'rf__n_estimators': 80}"
      ]
     },
     "execution_count": 44,
     "metadata": {},
     "output_type": "execute_result"
    }
   ],
   "source": [
    "#Test 2 using: \n",
    "    #rf_grid = {'rf__n_estimators': [80, 100, 200],\n",
    "                #'rf__max_depth': [3, 4, 5],\n",
    "                    #'rf__min_samples_split': [2,3, 4, 5, 6],\n",
    "                        #'rf__max_samples': [0.1, 0.15, 0.2, 0.25]}\n",
    "                        \n",
    "#RF_gridSEARCH(df_new, 'Target') \n"
   ]
  },
  {
   "cell_type": "code",
   "execution_count": 46,
   "metadata": {},
   "outputs": [
    {
     "name": "stdout",
     "output_type": "stream",
     "text": [
      "Best parameters:  {'rf__max_depth': 6, 'rf__max_samples': 0.12, 'rf__min_samples_split': 4, 'rf__n_estimators': 250}\n",
      "Best R2 Score:  0.11545497359632136\n"
     ]
    },
    {
     "data": {
      "text/plain": [
       "{'rf__max_depth': 6,\n",
       " 'rf__max_samples': 0.12,\n",
       " 'rf__min_samples_split': 4,\n",
       " 'rf__n_estimators': 250}"
      ]
     },
     "execution_count": 46,
     "metadata": {},
     "output_type": "execute_result"
    }
   ],
   "source": [
    "# Test 3 using: \n",
    "    #rf_grid = {'rf__n_estimators': [90,100, 200, 250],\n",
    "                #'rf__max_depth': [5, 6],\n",
    "                    #'rf__min_samples_split': [3, 4, 5],\n",
    "                        #'rf__max_samples': [0.05,0.055,0.1, 0.12]}\n",
    "# RF_gridSEARCH(df_new, 'Target')"
   ]
  },
  {
   "attachments": {},
   "cell_type": "markdown",
   "metadata": {},
   "source": [
    "We will use the parameters from Test 1 above for RandomForest Regression for Feature Selection. It had the highest r2 score..."
   ]
  },
  {
   "cell_type": "code",
   "execution_count": null,
   "metadata": {},
   "outputs": [],
   "source": [
    "# For Akeem\n",
    "\n",
    "RF_gridSEARCH(df_new, 'Target')"
   ]
  },
  {
   "attachments": {},
   "cell_type": "markdown",
   "metadata": {},
   "source": [
    "Now lets do a quick GridsearchCV on our prefered Model, Linear Regression."
   ]
  },
  {
   "cell_type": "code",
   "execution_count": 143,
   "metadata": {},
   "outputs": [],
   "source": [
    "# Linear Regression grinsearchCV to get the optimum hyperparameters.\n",
    "# This function is only for Linear Regression()\n",
    "def LR_gridSEARCH(data, target):\n",
    "\n",
    "    X = data.drop(columns={target})\n",
    "    y = data[target]\n",
    "\n",
    "    # Split data between\n",
    "    X_train, X_test, y_train, y_test = train_test_split(X, y, test_size=.33, random_state=42)\n",
    "\n",
    "    # Initialize Pipeline to transform Dataframe\n",
    "\n",
    "        # Numerical Columns\n",
    "    numeric_features = X_train.select_dtypes(include=[np.number]).columns # Using X_train, so does not include Target column\n",
    "    #numeric_transformer = StandardScaler()\n",
    "    numeric_transformer = MinMaxScaler()\n",
    "    # The MinMaxscaler is a type of scaler that scales the minimum and maximum values to be 0 and 1 respectively. \n",
    "    # While the StandardScaler scales all values between min and max so that they fall within a range from min to max\n",
    "    # I hav decided to use the StandardScaler() for our case.\n",
    "\n",
    "        # Categorical\n",
    "    categorical_features = X_train.select_dtypes(exclude=[np.number]).columns\n",
    "    categorical_transformer = OneHotEncoder(handle_unknown='ignore') # fix for value error from unknow=handle_unknown='ignore'\n",
    "\n",
    "        # Preprocessor\n",
    "    preprocessor = ColumnTransformer(transformers=[\n",
    "            ('num', numeric_transformer, numeric_features),\n",
    "            ('cat', categorical_transformer, categorical_features)])\n",
    "\n",
    "    # Model used:\n",
    "    model=LinearRegression()\n",
    "\n",
    "    # Initiate/construct Pipeline\n",
    "    pipeline=Pipeline([('preprocessor', preprocessor), ('lr', model)])\n",
    "\n",
    "    # specify the hyperparameters to tune\n",
    "\n",
    "    lr_grid = {'lr__fit_intercept': [True, False],\n",
    "              'lr__copy_X': [True, False],\n",
    "              'lr__n_jobs': [-1, None]}\n",
    "\n",
    "    # Create gridsearchcv object with pipeline\n",
    "    # scoring='r2' if using using Regression.\n",
    "    # scoring='accuracy' if using classification\n",
    "    #cv=10 Cross-validation set at 7\n",
    "    grid = GridSearchCV(pipeline, param_grid=lr_grid, scoring='r2', cv=5) \n",
    "\n",
    "    # fit grid to the training data\n",
    "    grid.fit(X_train, y_train)\n",
    "\n",
    "    # display the best_params_ and best_score_\n",
    "    print(\"Best parameters: \", grid.best_params_)\n",
    "    print(\"Best R2 Score: \", np.abs(grid.best_score_))\n",
    "\n",
    "    return grid.best_params_"
   ]
  },
  {
   "cell_type": "code",
   "execution_count": 62,
   "metadata": {},
   "outputs": [
    {
     "name": "stdout",
     "output_type": "stream",
     "text": [
      "Best parameters:  {'lr__copy_X': True, 'lr__fit_intercept': False, 'lr__n_jobs': -1}\n",
      "Best R2 Score:  0.10307762766514181\n"
     ]
    },
    {
     "data": {
      "text/plain": [
       "{'lr__copy_X': True, 'lr__fit_intercept': False, 'lr__n_jobs': -1}"
      ]
     },
     "execution_count": 62,
     "metadata": {},
     "output_type": "execute_result"
    }
   ],
   "source": [
    "# My results\n",
    "\n",
    "# LR_gridSEARCH(df_new, 'Target')"
   ]
  },
  {
   "cell_type": "code",
   "execution_count": null,
   "metadata": {},
   "outputs": [],
   "source": [
    "# For Akeem\n",
    "\n",
    "LR_gridSEARCH(df_new, 'Target')"
   ]
  },
  {
   "attachments": {},
   "cell_type": "markdown",
   "metadata": {},
   "source": [
    "I ran the above code a few more times, to perfect the hyperparameters until i can no longer improve on the r2 score. For now we will use this just once."
   ]
  },
  {
   "attachments": {},
   "cell_type": "markdown",
   "metadata": {},
   "source": [
    "Implement the Best parameters into our RFECV code below. For the code below, we will be using the following:\n",
    "<li> RandomForestRegression() for feature selection, and\n",
    "<li> LinearRegression() as our model for predicitons.\n",
    "<li> The function is build to also test out ElasticNet(), Lasso() and Ridge().\n",
    "<li> Lasso, Ridge, ElasticNet set at max_iteration =10,000 because i was getting errors at the default 1000 iterations\n"
   ]
  },
  {
   "attachments": {},
   "cell_type": "markdown",
   "metadata": {},
   "source": [
    "RFECV makes it possible for the feature selection process to automatically select the number of features chosen by the RFE class.\n",
    "<il>This is acheived by performing cross-validation evaluation of different numbers of features and automatically selecting the number of features that resukted in the best mean score of RFE,"
   ]
  },
  {
   "cell_type": "code",
   "execution_count": 152,
   "metadata": {},
   "outputs": [],
   "source": [
    "def RFECV_RF(data, target, model_name):\n",
    "    X = data.drop(columns={target})\n",
    "    y = data[target]\n",
    "    print(X.shape, y.shape)\n",
    "\n",
    "    X_train, X_test, y_train, y_test = train_test_split(X, y, test_size=.33, random_state=42)\n",
    "\n",
    "    # Initialize Pipeline to transform Dataframe\n",
    "    numeric_features = X_train.select_dtypes(include=[np.number]).columns\n",
    "    numeric_transformer = MinMaxScaler()\n",
    "\n",
    "    categorical_features = X_train.select_dtypes(exclude=[np.number]).columns\n",
    "    categorical_transformer = OneHotEncoder()\n",
    "\n",
    "    preprocessor = ColumnTransformer(transformers=[\n",
    "            ('num', numeric_transformer, numeric_features),\n",
    "            ('cat', categorical_transformer, categorical_features)])\n",
    "\n",
    "    feat_model = RandomForestRegressor(max_depth=6, max_samples=0.3, min_samples_split=8, n_estimators=75, n_jobs=-1) # the optimum parameters from the RF_Gridsearch function\n",
    "\n",
    "    if model_name == 'ElasticNet':\n",
    "        model = ElasticNet(max_iter=10000) #Elesticnet regression is  a linear regression combined with L1 (Lasso), L2 (Ridge) priors as regulerizers\n",
    "    elif model_name == 'Lasso':\n",
    "        model = Lasso(max_iter=10000) #L1 Regularization, also called a Lasso regression, adds the “absolute value of magnitude” of the coefficient as a penalty term to the loss function. \n",
    "    elif model_name == 'Ridge':\n",
    "        model = Ridge(max_iter=10000) # L2 Regularization, also called a Ridge regression, adds the “squared magnitude” of the coefficient as the penalty term to the loss function.\n",
    "    elif model_name =='LinearRegression':\n",
    "        model= LinearRegression(copy_X=True, fit_intercept=False, n_jobs=-1) # Optimum parameters from LR_Gridsearch\n",
    "    else:\n",
    "        model = feat_model # function can default to RandomForest Regression as prediction model\n",
    "\n",
    "    selection = RFECV(estimator=feat_model, step=1, cv=10, scoring='r2', min_features_to_select=3)\n",
    "    \n",
    "    pipeline = Pipeline([('preprocessor', preprocessor), ('fs', selection), ('model', model)])\n",
    "    pipeline.fit(X_train, y_train)\n",
    "    y_predict = pipeline.predict(X_test)\n",
    "\n",
    "    # print the scores\n",
    "    print('R2 TRAINING score: ', r2_score(y_train, pipeline.predict(X_train)))\n",
    "    print('R2 TESTING score: ', r2_score(y_test, pipeline.predict(X_test)))\n",
    "    print('#################################################')\n",
    "    print('RMSE TRAINING score: ', math.sqrt(mean_squared_error(y_train, pipeline.predict(X_train))))\n",
    "    print('RMSE TESTING score: ', math.sqrt(mean_squared_error(y_test, y_predict)))\n",
    "    print('#################################################')\n",
    "\n",
    "    return pipeline"
   ]
  },
  {
   "cell_type": "code",
   "execution_count": 104,
   "metadata": {},
   "outputs": [
    {
     "name": "stdout",
     "output_type": "stream",
     "text": [
      "(1243, 15) (1243,)\n",
      "R2 TRAINING score:  0.07049581682366168\n",
      "R2 TESTING score:  0.12193635170613082\n",
      "#################################################\n",
      "RMSE TRAINING score:  53436.60043017701\n",
      "RMSE TESTING score:  36582.38741052724\n",
      "#################################################\n"
     ]
    },
    {
     "data": {
      "text/plain": [
       "Pipeline(steps=[('preprocessor',\n",
       "                 ColumnTransformer(transformers=[('num', MinMaxScaler(),\n",
       "                                                  Index(['Age', 'Total_yrs_Exp', 'German_Exp', 'Vac_days'], dtype='object')),\n",
       "                                                 ('cat', OneHotEncoder(),\n",
       "                                                  Index(['Gender', 'City', 'Position', 'Seniority_level', 'Main_Backgrnd',\n",
       "       'Other_Backgrnd', 'Empl_Status', 'Contract_duration', 'Main_Work_Lang',\n",
       "       'Company_size', 'Company_type'],\n",
       "      dtype='object'))])),\n",
       "                ('fs',\n",
       "                 RFECV(cv=10,\n",
       "                       estimator=RandomForestRegressor(max_depth=6,\n",
       "                                                       max_samples=0.3,\n",
       "                                                       min_samples_split=8,\n",
       "                                                       n_estimators=75,\n",
       "                                                       n_jobs=-1),\n",
       "                       min_features_to_select=3, scoring='r2')),\n",
       "                ('model', ElasticNet(max_iter=10000))])"
      ]
     },
     "execution_count": 104,
     "metadata": {},
     "output_type": "execute_result"
    }
   ],
   "source": [
    "# Lets try this with ElasticNet set at max_iteration of 10,000 (1000 is the default and was giving me errors, hence had to increase it to 10,000)\n",
    "# The Elesticnet regression is  a linear regression combined with L1 (Lasso), L2 (Ridge) priors as regulerizers.\n",
    "\n",
    "#RFECV_RF(df_new, 'Target', 'ElasticNet')"
   ]
  },
  {
   "attachments": {},
   "cell_type": "markdown",
   "metadata": {},
   "source": [
    "<li>With EalsticNET the Testing score is much higher than te trainign score. It may be an indication that the model is underfitting and not capturing the underlying patterns in the data.\n",
    "<li>Normally, testing and training scores should be in the same ballpark, with training scores a little higher."
   ]
  },
  {
   "cell_type": "code",
   "execution_count": 153,
   "metadata": {},
   "outputs": [
    {
     "name": "stdout",
     "output_type": "stream",
     "text": [
      "(1243, 15) (1243,)\n",
      "R2 TRAINING score:  0.12310974328063806\n",
      "R2 TESTING score:  0.11922832149005091\n",
      "#################################################\n",
      "RMSE TRAINING score:  51902.20026199768\n",
      "RMSE TESTING score:  36638.75573068032\n",
      "#################################################\n"
     ]
    },
    {
     "data": {
      "text/plain": [
       "Pipeline(steps=[('preprocessor',\n",
       "                 ColumnTransformer(transformers=[('num', MinMaxScaler(),\n",
       "                                                  Index(['Age', 'Total_yrs_Exp', 'German_Exp', 'Vac_days'], dtype='object')),\n",
       "                                                 ('cat', OneHotEncoder(),\n",
       "                                                  Index(['Gender', 'City', 'Position', 'Seniority_level', 'Main_Backgrnd',\n",
       "       'Other_Backgrnd', 'Empl_Status', 'Contract_duration', 'Main_Work_Lang',\n",
       "       'Company_size', 'Company_type'],\n",
       "      dtype='object'))])),\n",
       "                ('fs',\n",
       "                 RFECV(cv=10,\n",
       "                       estimator=RandomForestRegressor(max_depth=6,\n",
       "                                                       max_samples=0.3,\n",
       "                                                       min_samples_split=8,\n",
       "                                                       n_estimators=75,\n",
       "                                                       n_jobs=-1),\n",
       "                       min_features_to_select=3, scoring='r2')),\n",
       "                ('model', LinearRegression(fit_intercept=False, n_jobs=-1))])"
      ]
     },
     "execution_count": 153,
     "metadata": {},
     "output_type": "execute_result"
    }
   ],
   "source": [
    "# My Result with Linear Regression\n",
    "\n",
    "# RFECV_RF(df_new, 'Target', 'LinearRegression')"
   ]
  },
  {
   "attachments": {},
   "cell_type": "markdown",
   "metadata": {},
   "source": [
    "It seems our R2 training and Testing score are very very close....is that a good thing.\n",
    "The model is not overfitted to the training data. This could be a good thing.\n",
    "\n"
   ]
  },
  {
   "attachments": {},
   "cell_type": "markdown",
   "metadata": {},
   "source": [
    "The R2 score for the training set should always be equal to or greater than the R-squared score for the testing set. This is because the model is fitted to the training data, and so it is able to capture the patterns and relationships in the training data more accurately than it can in the testing data."
   ]
  },
  {
   "cell_type": "code",
   "execution_count": null,
   "metadata": {},
   "outputs": [],
   "source": [
    "# For Akeem\n",
    "RFECV_RF(df_new, 'Target', 'LinearRegression')"
   ]
  },
  {
   "attachments": {},
   "cell_type": "markdown",
   "metadata": {},
   "source": [
    "## Using the TransformedTargetRegressor to transform the target: \n",
    "<li> The Target column was very skewed, so lets check the log(target)\n",
    "\n"
   ]
  },
  {
   "cell_type": "code",
   "execution_count": 130,
   "metadata": {},
   "outputs": [
    {
     "name": "stdout",
     "output_type": "stream",
     "text": [
      "(1243, 15) (1243,)\n",
      "R2 TRAINING score:  0.33513690226871606\n",
      "R2 TESTING score:  0.09973274000074084\n",
      "#################################################\n",
      "RMSE TRAINING score:  0.35853015792279913\n",
      "RMSE TESTING score:  0.4020892987922009\n",
      "#################################################\n"
     ]
    },
    {
     "data": {
      "text/plain": [
       "Pipeline(steps=[('preprocessor',\n",
       "                 ColumnTransformer(transformers=[('num', MinMaxScaler(),\n",
       "                                                  Index(['Age', 'Total_yrs_Exp', 'German_Exp', 'Vac_days'], dtype='object')),\n",
       "                                                 ('cat', OneHotEncoder(),\n",
       "                                                  Index(['Gender', 'City', 'Position', 'Seniority_level', 'Main_Backgrnd',\n",
       "       'Other_Backgrnd', 'Empl_Status', 'Contract_duration', 'Main_Work_Lang',\n",
       "       'Company_size', 'Company_type'],\n",
       "      dtype='object'))])),\n",
       "                ('fs',\n",
       "                 RFECV(cv=10,\n",
       "                       estimator=RandomForestRegressor(max_depth=6,\n",
       "                                                       max_samples=0.3,\n",
       "                                                       min_samples_split=8,\n",
       "                                                       n_estimators=75,\n",
       "                                                       n_jobs=-1),\n",
       "                       min_features_to_select=3, scoring='r2')),\n",
       "                ('model', LinearRegression(fit_intercept=False, n_jobs=-1))])"
      ]
     },
     "execution_count": 130,
     "metadata": {},
     "output_type": "execute_result"
    }
   ],
   "source": [
    "# I am still confused about the TransformedTargetRegressor and how it works, so i decided to, as foolows:\n",
    "# Just to be sure, lets run the RFECV_RF with np.log(y)\n",
    "# This will help us with the TransformedTargetRegressor below: we need to see how well we coded.... \n",
    "\n",
    "#RFECV_RF(df_new, 'Target', 'LinearRegression') with manually applied log(y)"
   ]
  },
  {
   "attachments": {},
   "cell_type": "markdown",
   "metadata": {},
   "source": [
    "it seems manually log transforming the very skewed y-target did better on the Traning and horrible on the testing data."
   ]
  },
  {
   "cell_type": "code",
   "execution_count": 107,
   "metadata": {},
   "outputs": [],
   "source": [
    "from sklearn.compose import TransformedTargetRegressor"
   ]
  },
  {
   "attachments": {},
   "cell_type": "markdown",
   "metadata": {},
   "source": [
    "Let's incorporate the TransformedTargetRegressor into the RFECV_RF function to automatically do the log transformation."
   ]
  },
  {
   "cell_type": "code",
   "execution_count": 157,
   "metadata": {},
   "outputs": [],
   "source": [
    "# Incorporating the sklearn, TranformedTargetRegressor function into our RFECV_RF function.\n",
    "# Help from the following:\n",
    "# https://machinelearningmastery.com/how-to-transform-target-variables-for-regression-with-scikit-learn/\n",
    "# also using https://thomasjpfan.github.io/scikit-learn-website/auto_examples/compose/plot_transformed_target.html\n",
    "\n",
    "\n",
    "def Tranformed_RFECV_RF(data, target, model_name):\n",
    "    X = data.drop(columns={target})\n",
    "    y = data[target]\n",
    "    print(X.shape, y.shape)\n",
    "\n",
    "    # Function to transform y to np.log(y) for TransformedTargetRegressor\n",
    "    # y_transform=np.log(y)\n",
    "\n",
    "    #target_transformer = FunctionTransformer(log_transformer, validate=True) # Log Transformer form our function list at the begining\n",
    "    \n",
    "    X_train, X_test, y_train, y_test = train_test_split(X, y, test_size=.33, random_state=42)\n",
    "\n",
    "    # Initialize Pipeline to transform Dataframe\n",
    "    numeric_features = X_train.select_dtypes(include=[np.number]).columns\n",
    "    numeric_transformer = MinMaxScaler()\n",
    "\n",
    "    categorical_features = X_train.select_dtypes(exclude=[np.number]).columns\n",
    "    categorical_transformer = OneHotEncoder()\n",
    "\n",
    "    preprocessor = ColumnTransformer(transformers=[\n",
    "            ('num', numeric_transformer, numeric_features),\n",
    "            ('cat', categorical_transformer, categorical_features)])\n",
    "\n",
    "    feat_model = RandomForestRegressor(max_depth=6, max_samples=0.3, min_samples_split=8, n_estimators=75, n_jobs=-1)\n",
    "\n",
    "    if model_name == 'ElasticNet':\n",
    "        model = ElasticNet(max_iter=10000)\n",
    "    elif model_name == 'Lasso':\n",
    "        model = Lasso(max_iter=10000)\n",
    "    elif model_name == 'Ridge':\n",
    "        model = Ridge(max_iter=10000)\n",
    "    elif model_name =='LinearRegression':\n",
    "        model= LinearRegression(copy_X=True, fit_intercept=False, n_jobs=-1)\n",
    "    else:\n",
    "        model = feat_model\n",
    "\n",
    "    rfecv_pipe = RFECV(estimator=feat_model, step=1, cv=10, scoring='r2', min_features_to_select=3)\n",
    "\n",
    "    pipeline = Pipeline([('preprocessor', preprocessor), ('fs', rfecv_pipe), ('model', model)])\n",
    "    pipeline.fit(X_train, y_train)\n",
    "    y_predict = pipeline.predict(X_test)\n",
    "\n",
    "    # Pipeline can not include the trans_regressor. But has to be included into transformedTargetRegressor, hence:\n",
    "\n",
    "    trans_regressor=TransformedTargetRegressor(regressor=pipeline, func=np.log, inverse_func=np.exp)\n",
    "    # func=np.log and inverse_func=np.exp to convert the target to log(target) and also do the inverse\n",
    "    trans_regressor.fit(X_train, y_train)\n",
    "    y_predict2=trans_regressor.predict(X_test)\n",
    "\n",
    "    print('R2 TRAINING score: ', r2_score(y_train, trans_regressor.predict(X_train)))\n",
    "    print('R2 TESTING score: ', r2_score(y_test, y_predict))\n",
    "    print('#################################################')\n",
    "    print('RMSE TRAINING score: ', math.sqrt(mean_squared_error(y_train, trans_regressor.predict(X_train))))\n",
    "    print('RMSE TESTING score: ', math.sqrt(mean_squared_error(y_test, y_predict2)))\n",
    "    print('#################################################')\n",
    "\n",
    "    return pipeline"
   ]
  },
  {
   "cell_type": "code",
   "execution_count": 136,
   "metadata": {},
   "outputs": [
    {
     "name": "stdout",
     "output_type": "stream",
     "text": [
      "(1243, 15) (1243,)\n",
      "R2 TRAINING score:  0.10594151044134947\n",
      "R2 TESTING score:  -6.981494487019162\n",
      "#################################################\n",
      "RMSE TRAINING score:  52407.82213087009\n",
      "RMSE TESTING score:  110293.81392528044\n",
      "#################################################\n"
     ]
    },
    {
     "data": {
      "text/plain": [
       "Pipeline(steps=[('preprocessor',\n",
       "                 ColumnTransformer(transformers=[('num', MinMaxScaler(),\n",
       "                                                  Index(['Age', 'Total_yrs_Exp', 'German_Exp', 'Vac_days'], dtype='object')),\n",
       "                                                 ('cat', OneHotEncoder(),\n",
       "                                                  Index(['Gender', 'City', 'Position', 'Seniority_level', 'Main_Backgrnd',\n",
       "       'Other_Backgrnd', 'Empl_Status', 'Contract_duration', 'Main_Work_Lang',\n",
       "       'Company_size', 'Company_type'],\n",
       "      dtype='object'))])),\n",
       "                ('fs',\n",
       "                 RFECV(cv=10,\n",
       "                       estimator=RandomForestRegressor(max_depth=6,\n",
       "                                                       max_samples=0.3,\n",
       "                                                       min_samples_split=8,\n",
       "                                                       n_estimators=200,\n",
       "                                                       n_jobs=-1),\n",
       "                       min_features_to_select=3, scoring='r2')),\n",
       "                ('model', LinearRegression(fit_intercept=False, n_jobs=-1))])"
      ]
     },
     "execution_count": 136,
     "metadata": {},
     "output_type": "execute_result"
    }
   ],
   "source": [
    "#Tranformed_RFECV_RF(df_new, 'Target', 'LinearRegression') # changed the  n_estimators to 200 for RandomForest in feature selection\n",
    "# below result shows not a big difference from n_estimators=75"
   ]
  },
  {
   "cell_type": "code",
   "execution_count": 158,
   "metadata": {},
   "outputs": [
    {
     "name": "stdout",
     "output_type": "stream",
     "text": [
      "(1243, 15) (1243,)\n",
      "R2 TRAINING score:  0.1115292879009171\n",
      "R2 TESTING score:  0.08857319533497265\n",
      "#################################################\n",
      "RMSE TRAINING score:  52243.79357655498\n",
      "RMSE TESTING score:  47732.40331462465\n",
      "#################################################\n"
     ]
    },
    {
     "data": {
      "text/plain": [
       "Pipeline(steps=[('preprocessor',\n",
       "                 ColumnTransformer(transformers=[('num', MinMaxScaler(),\n",
       "                                                  Index(['Age', 'Total_yrs_Exp', 'German_Exp', 'Vac_days'], dtype='object')),\n",
       "                                                 ('cat', OneHotEncoder(),\n",
       "                                                  Index(['Gender', 'City', 'Position', 'Seniority_level', 'Main_Backgrnd',\n",
       "       'Other_Backgrnd', 'Empl_Status', 'Contract_duration', 'Main_Work_Lang',\n",
       "       'Company_size', 'Company_type'],\n",
       "      dtype='object'))])),\n",
       "                ('fs',\n",
       "                 RFECV(cv=10,\n",
       "                       estimator=RandomForestRegressor(max_depth=6,\n",
       "                                                       max_samples=0.3,\n",
       "                                                       min_samples_split=8,\n",
       "                                                       n_estimators=75,\n",
       "                                                       n_jobs=-1),\n",
       "                       min_features_to_select=3, scoring='r2')),\n",
       "                ('model', LinearRegression(fit_intercept=False, n_jobs=-1))])"
      ]
     },
     "execution_count": 158,
     "metadata": {},
     "output_type": "execute_result"
    }
   ],
   "source": [
    "# My Result using original hyperparameters after GridSearchCV\n",
    "\n",
    "#Tranformed_RFECV_RF(df_new, 'Target', 'LinearRegression') # with our original n_estimators=75 from gridsearchCV"
   ]
  },
  {
   "cell_type": "code",
   "execution_count": null,
   "metadata": {},
   "outputs": [],
   "source": [
    "# for Akeem\n",
    "Tranformed_RFECV_RF(df_new, 'Target', 'LinearRegression')"
   ]
  },
  {
   "attachments": {},
   "cell_type": "markdown",
   "metadata": {},
   "source": [
    "## Conclusion:"
   ]
  },
  {
   "attachments": {},
   "cell_type": "markdown",
   "metadata": {},
   "source": [
    "## Part 1.\n",
    "<li> Created Function to suppliment by data cleaning for all the columns\n",
    "<li> Investigated before & after creating Target column\n",
    "<li> Cleaned original data and saved as Clean_File.csv for Part2"
   ]
  },
  {
   "attachments": {},
   "cell_type": "markdown",
   "metadata": {},
   "source": [
    "## Part2."
   ]
  },
  {
   "attachments": {},
   "cell_type": "markdown",
   "metadata": {},
   "source": [
    "<li>Created function to see the best regressor for our cleaned data from Part 1.\n",
    "<li> Generally, Random Forest Classification/Regression (RF) are more accurate; hence used it to create function for feature selection (RFECV_RF). Used the best score from 3 different runs.\n",
    "<li> Did a GridsearchCV to optimize the hyperparameters for RF that would be used in RFECV_RF\n",
    "<li> Did a Gridsearch to try to optimize the model (linear regression, in our case) for prediction in function RFECV_RF\n",
    "<li> Function RFECV_RF coded to have the ability to try out Lasso(), Ridge() and ElasticNet() as well. Parameters for them is max_iter set at 10,000. (was getting errors at default 1000)\n"
   ]
  },
  {
   "attachments": {},
   "cell_type": "markdown",
   "metadata": {},
   "source": [
    "Score from tunned RFECV_RF on linear rigression:\n",
    "<li>R2 TRAINING score:  0.12310974328063806\n",
    "<li>R2 TESTING score:  0.11922832149005091"
   ]
  },
  {
   "attachments": {},
   "cell_type": "markdown",
   "metadata": {},
   "source": [
    "Genrally, training scores and testing scores should be somewhat close, with training scores being higher, since the model can see the training data. However:\n",
    "<li> The scores are horrible. The data is not good or i have done a horrible job of data cleaning.\n",
    "<li> Looking at the Correlation of the cleaned data, there is no correlation at all with the Target. Bad Data to begin with."
   ]
  },
  {
   "attachments": {},
   "cell_type": "markdown",
   "metadata": {},
   "source": [
    "Regarding the TranformTargetRegressor:\n",
    "<li> Ran FRECV_RF by manually coded the y=np.log(data[target]) to compare the results with TransformTargetRegressor converted RFECV_RF function\n",
    "<li> There is a big difference beween the hard coded log(y) result and the Transformed_RFECV_RF with targettransform.\n",
    "<li> Confirming that either the original data was bad or i would need to choose a diffrent Feature Selection process."
   ]
  },
  {
   "attachments": {},
   "cell_type": "markdown",
   "metadata": {},
   "source": [
    "Test & Training cores for TransformTargetRegressor\n",
    "<li>R2 TRAINING score:  0.1115292879009171\n",
    "<li>R2 TESTING score:  0.08857319533497265"
   ]
  }
 ],
 "metadata": {
  "kernelspec": {
   "display_name": "base",
   "language": "python",
   "name": "python3"
  },
  "language_info": {
   "codemirror_mode": {
    "name": "ipython",
    "version": 3
   },
   "file_extension": ".py",
   "mimetype": "text/x-python",
   "name": "python",
   "nbconvert_exporter": "python",
   "pygments_lexer": "ipython3",
   "version": "3.9.13"
  },
  "orig_nbformat": 4,
  "vscode": {
   "interpreter": {
    "hash": "bdbdacd0101e68079a1bddb8194690255e5689c62d1f789cd03eec87f1fa8a92"
   }
  }
 },
 "nbformat": 4,
 "nbformat_minor": 2
}
