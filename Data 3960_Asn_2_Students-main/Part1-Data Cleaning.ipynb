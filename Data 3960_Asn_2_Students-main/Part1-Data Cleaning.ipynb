{
 "cells": [
  {
   "cell_type": "code",
   "execution_count": 1,
   "metadata": {},
   "outputs": [],
   "source": [
    "import numpy as np\n",
    "import matplotlib.pyplot as plt\n",
    "import pandas as pd\n",
    "import seaborn as sns\n",
    "\n",
    "from sklearn.linear_model import LinearRegression, LogisticRegression, Lasso, Ridge, ElasticNet\n",
    "from sklearn.preprocessing import PolynomialFeatures\n",
    "from sklearn.linear_model import SGDRegressor\n",
    "from sklearn.svm import SVR\n",
    "\n",
    "from sklearn.tree import DecisionTreeRegressor, DecisionTreeClassifier\n",
    "from sklearn.ensemble import RandomForestRegressor, RandomForestClassifier\n",
    "from sklearn.preprocessing import MinMaxScaler, StandardScaler, OneHotEncoder, OrdinalEncoder\n",
    "from sklearn.feature_selection import RFECV, RFE\n",
    "\n",
    "\n",
    "\n",
    "\n",
    "from sklearn.pipeline import Pipeline\n",
    "from sklearn.compose import ColumnTransformer\n",
    "\n",
    "from sklearn.metrics import mean_squared_error, classification_report, confusion_matrix, accuracy_score, r2_score, mean_absolute_error\n",
    "from sklearn.model_selection import train_test_split\n",
    "from sklearn.model_selection import cross_val_score\n",
    "\n",
    "from sklearn.model_selection import GridSearchCV"
   ]
  },
  {
   "attachments": {},
   "cell_type": "markdown",
   "metadata": {},
   "source": [
    "# Assignment 2 - Regression\n",
    "### Predict the TOTAL COMPENSATION for this year. \n",
    "\n",
    "The data file provided is a salary survey for tech workers in Europe. We want to predict the total amount of compensation they bring in each year, based off of the details of their work. \n",
    "\n",
    "Some notes that will be important:\n",
    "<ul>\n",
    "    <li>The total compensation will need to be constructed, there is a column for salary, \"Yearly brutto salary (without bonus and stocks) in EUR\", as well as a column for bonus compensation, \"Yearly bonus + stocks in EUR\". \n",
    "    <li>Some categorical variables will need some work, and there isn't generally an exact answer. The main concern is things with categories that have a bunch of values with a very small count. For example, if there is only 1 person in City X, then that value likely needs to be addressed. We don't want it encoded into a new column of one 1 and thousands of 0s. \n",
    "    <li>There is an article exploring some of the data here: https://www.asdcode.de/2021/01/it-salary-survey-december-2020.html\n",
    "    <li>Imputation and a bit of data manipulation will be required. \n",
    "    <li>Use any regression method you'd like. Some ones are closely related to what we've done, you may want to look at them, e.g. ExtraTreesRegressor. \n",
    "    <li>Initial accurracy, and potentially final accuracy, may not be great. When I made a plain model will little optimization the errors were large and the R2 was low. There is lots of room for optimization. \n",
    "    <li>Research challenge - try some work on the target, look into TransformedTargetRegressor and see if that helps. Recall in stats when we had skewed distributions... Maybe it helps, maybe it doesn't. \n",
    "    <li>EDA and data prep are up to you - you'll probably need to do a little exploring to figure out what cleanup is needed. When I did it, I did things kind of iteratively when I did it. For example, look at the value counts, figure out how to treat the different categories, clean something up, look at the results, potentially repeat if needed. After you figure out what needs to be done, you may be able to take some of those steps and incorporate them into a pipeline to be cleaner....\n",
    "    <li><b>CRITICAL - Please make sure your code runs with RUN ALL. It should load the data that you're given, do all the processing, and spit out results. Comment out or remove anything that you've cleaned up and don't need - e.g. if you scaled a value manually, then moved that into a pipeline, don't leave the original scaling code active when the file is run.</b>\n",
    "</ul>\n",
    "\n",
    "### Details and Deliverables\n",
    "\n",
    "You'll need to build code to produce the predictions. In particular, there's a few things that'll be marked:\n",
    "<ul>\n",
    "    <li>Please add a markdown cell at the bottom, and put in a few notes addressing the following:\n",
    "    <ul>\n",
    "        <li> Accuracy of your models with/without feature selection. Include both train/test for each. Please use R2 and RMSE. \n",
    "        <li> Feature Selection - Please identify what you did for feature selection. No need for a long explaination, something along the lines of \"I did X, and the result was that 4 features were removed\". Try at least 2 things. \n",
    "        <li> Hyperparameter Changes / Grid Search Improvements. What did you try, and why. Similar explaination to above, short. \n",
    "        <li> Overall this section should be roughly as long as this intro block - just outline what the results were, what you did to improve, and the results after. \n",
    "        <li> If you could use titles/bullet points I'd really appreciate it. \n",
    "    </ul>\n",
    "    <li>Grade Breakdown:\n",
    "    <ul>\n",
    "        <li> Code is readable, there are comments: 20%\n",
    "        <li> Explaination as defined above: 60% (20% each point)\n",
    "        <li> Accuracy: 20% As compared to everyone else. This will be generously graded, I won't be surprised if overall accuracy is low for most people. \n",
    "    </ul>\n",
    "</ul>"
   ]
  },
  {
   "cell_type": "code",
   "execution_count": 2,
   "metadata": {},
   "outputs": [
    {
     "data": {
      "text/html": [
       "<div>\n",
       "<style scoped>\n",
       "    .dataframe tbody tr th:only-of-type {\n",
       "        vertical-align: middle;\n",
       "    }\n",
       "\n",
       "    .dataframe tbody tr th {\n",
       "        vertical-align: top;\n",
       "    }\n",
       "\n",
       "    .dataframe thead th {\n",
       "        text-align: right;\n",
       "    }\n",
       "</style>\n",
       "<table border=\"1\" class=\"dataframe\">\n",
       "  <thead>\n",
       "    <tr style=\"text-align: right;\">\n",
       "      <th></th>\n",
       "      <th>count</th>\n",
       "      <th>unique</th>\n",
       "      <th>top</th>\n",
       "      <th>freq</th>\n",
       "      <th>mean</th>\n",
       "      <th>std</th>\n",
       "      <th>min</th>\n",
       "      <th>25%</th>\n",
       "      <th>50%</th>\n",
       "      <th>75%</th>\n",
       "      <th>max</th>\n",
       "    </tr>\n",
       "  </thead>\n",
       "  <tbody>\n",
       "    <tr>\n",
       "      <th>Timestamp</th>\n",
       "      <td>1253</td>\n",
       "      <td>1248</td>\n",
       "      <td>24/11/2020 13:55:19</td>\n",
       "      <td>2</td>\n",
       "      <td>NaN</td>\n",
       "      <td>NaN</td>\n",
       "      <td>NaN</td>\n",
       "      <td>NaN</td>\n",
       "      <td>NaN</td>\n",
       "      <td>NaN</td>\n",
       "      <td>NaN</td>\n",
       "    </tr>\n",
       "    <tr>\n",
       "      <th>Age</th>\n",
       "      <td>1226.0</td>\n",
       "      <td>NaN</td>\n",
       "      <td>NaN</td>\n",
       "      <td>NaN</td>\n",
       "      <td>32.509788</td>\n",
       "      <td>5.663804</td>\n",
       "      <td>20.0</td>\n",
       "      <td>29.0</td>\n",
       "      <td>32.0</td>\n",
       "      <td>35.0</td>\n",
       "      <td>69.0</td>\n",
       "    </tr>\n",
       "    <tr>\n",
       "      <th>Gender</th>\n",
       "      <td>1243</td>\n",
       "      <td>3</td>\n",
       "      <td>Male</td>\n",
       "      <td>1049</td>\n",
       "      <td>NaN</td>\n",
       "      <td>NaN</td>\n",
       "      <td>NaN</td>\n",
       "      <td>NaN</td>\n",
       "      <td>NaN</td>\n",
       "      <td>NaN</td>\n",
       "      <td>NaN</td>\n",
       "    </tr>\n",
       "    <tr>\n",
       "      <th>City</th>\n",
       "      <td>1253</td>\n",
       "      <td>119</td>\n",
       "      <td>Berlin</td>\n",
       "      <td>681</td>\n",
       "      <td>NaN</td>\n",
       "      <td>NaN</td>\n",
       "      <td>NaN</td>\n",
       "      <td>NaN</td>\n",
       "      <td>NaN</td>\n",
       "      <td>NaN</td>\n",
       "      <td>NaN</td>\n",
       "    </tr>\n",
       "    <tr>\n",
       "      <th>Position</th>\n",
       "      <td>1247</td>\n",
       "      <td>148</td>\n",
       "      <td>Software Engineer</td>\n",
       "      <td>387</td>\n",
       "      <td>NaN</td>\n",
       "      <td>NaN</td>\n",
       "      <td>NaN</td>\n",
       "      <td>NaN</td>\n",
       "      <td>NaN</td>\n",
       "      <td>NaN</td>\n",
       "      <td>NaN</td>\n",
       "    </tr>\n",
       "    <tr>\n",
       "      <th>Total years of experience</th>\n",
       "      <td>1237</td>\n",
       "      <td>48</td>\n",
       "      <td>10</td>\n",
       "      <td>138</td>\n",
       "      <td>NaN</td>\n",
       "      <td>NaN</td>\n",
       "      <td>NaN</td>\n",
       "      <td>NaN</td>\n",
       "      <td>NaN</td>\n",
       "      <td>NaN</td>\n",
       "      <td>NaN</td>\n",
       "    </tr>\n",
       "    <tr>\n",
       "      <th>Years of experience in Germany</th>\n",
       "      <td>1221</td>\n",
       "      <td>53</td>\n",
       "      <td>2</td>\n",
       "      <td>195</td>\n",
       "      <td>NaN</td>\n",
       "      <td>NaN</td>\n",
       "      <td>NaN</td>\n",
       "      <td>NaN</td>\n",
       "      <td>NaN</td>\n",
       "      <td>NaN</td>\n",
       "      <td>NaN</td>\n",
       "    </tr>\n",
       "    <tr>\n",
       "      <th>Seniority level</th>\n",
       "      <td>1241</td>\n",
       "      <td>24</td>\n",
       "      <td>Senior</td>\n",
       "      <td>565</td>\n",
       "      <td>NaN</td>\n",
       "      <td>NaN</td>\n",
       "      <td>NaN</td>\n",
       "      <td>NaN</td>\n",
       "      <td>NaN</td>\n",
       "      <td>NaN</td>\n",
       "      <td>NaN</td>\n",
       "    </tr>\n",
       "    <tr>\n",
       "      <th>Your main technology / programming language</th>\n",
       "      <td>1126</td>\n",
       "      <td>256</td>\n",
       "      <td>Java</td>\n",
       "      <td>184</td>\n",
       "      <td>NaN</td>\n",
       "      <td>NaN</td>\n",
       "      <td>NaN</td>\n",
       "      <td>NaN</td>\n",
       "      <td>NaN</td>\n",
       "      <td>NaN</td>\n",
       "      <td>NaN</td>\n",
       "    </tr>\n",
       "    <tr>\n",
       "      <th>Other technologies/programming languages you use often</th>\n",
       "      <td>1096</td>\n",
       "      <td>562</td>\n",
       "      <td>Javascript / Typescript</td>\n",
       "      <td>44</td>\n",
       "      <td>NaN</td>\n",
       "      <td>NaN</td>\n",
       "      <td>NaN</td>\n",
       "      <td>NaN</td>\n",
       "      <td>NaN</td>\n",
       "      <td>NaN</td>\n",
       "      <td>NaN</td>\n",
       "    </tr>\n",
       "    <tr>\n",
       "      <th>Yearly brutto salary (without bonus and stocks) in EUR</th>\n",
       "      <td>1253.0</td>\n",
       "      <td>NaN</td>\n",
       "      <td>NaN</td>\n",
       "      <td>NaN</td>\n",
       "      <td>80279042.578715</td>\n",
       "      <td>2825061107.590495</td>\n",
       "      <td>10001.0</td>\n",
       "      <td>58800.0</td>\n",
       "      <td>70000.0</td>\n",
       "      <td>80000.0</td>\n",
       "      <td>99999999999.0</td>\n",
       "    </tr>\n",
       "    <tr>\n",
       "      <th>Yearly bonus + stocks in EUR</th>\n",
       "      <td>829</td>\n",
       "      <td>168</td>\n",
       "      <td>0</td>\n",
       "      <td>227</td>\n",
       "      <td>NaN</td>\n",
       "      <td>NaN</td>\n",
       "      <td>NaN</td>\n",
       "      <td>NaN</td>\n",
       "      <td>NaN</td>\n",
       "      <td>NaN</td>\n",
       "      <td>NaN</td>\n",
       "    </tr>\n",
       "    <tr>\n",
       "      <th>Number of vacation days</th>\n",
       "      <td>1185</td>\n",
       "      <td>45</td>\n",
       "      <td>30</td>\n",
       "      <td>488</td>\n",
       "      <td>NaN</td>\n",
       "      <td>NaN</td>\n",
       "      <td>NaN</td>\n",
       "      <td>NaN</td>\n",
       "      <td>NaN</td>\n",
       "      <td>NaN</td>\n",
       "      <td>NaN</td>\n",
       "    </tr>\n",
       "    <tr>\n",
       "      <th>Employment status</th>\n",
       "      <td>1236</td>\n",
       "      <td>11</td>\n",
       "      <td>Full-time employee</td>\n",
       "      <td>1190</td>\n",
       "      <td>NaN</td>\n",
       "      <td>NaN</td>\n",
       "      <td>NaN</td>\n",
       "      <td>NaN</td>\n",
       "      <td>NaN</td>\n",
       "      <td>NaN</td>\n",
       "      <td>NaN</td>\n",
       "    </tr>\n",
       "    <tr>\n",
       "      <th>Сontract duration</th>\n",
       "      <td>1224</td>\n",
       "      <td>3</td>\n",
       "      <td>Unlimited contract</td>\n",
       "      <td>1159</td>\n",
       "      <td>NaN</td>\n",
       "      <td>NaN</td>\n",
       "      <td>NaN</td>\n",
       "      <td>NaN</td>\n",
       "      <td>NaN</td>\n",
       "      <td>NaN</td>\n",
       "      <td>NaN</td>\n",
       "    </tr>\n",
       "    <tr>\n",
       "      <th>Main language at work</th>\n",
       "      <td>1237</td>\n",
       "      <td>14</td>\n",
       "      <td>English</td>\n",
       "      <td>1020</td>\n",
       "      <td>NaN</td>\n",
       "      <td>NaN</td>\n",
       "      <td>NaN</td>\n",
       "      <td>NaN</td>\n",
       "      <td>NaN</td>\n",
       "      <td>NaN</td>\n",
       "      <td>NaN</td>\n",
       "    </tr>\n",
       "    <tr>\n",
       "      <th>Company size</th>\n",
       "      <td>1235</td>\n",
       "      <td>5</td>\n",
       "      <td>1000+</td>\n",
       "      <td>448</td>\n",
       "      <td>NaN</td>\n",
       "      <td>NaN</td>\n",
       "      <td>NaN</td>\n",
       "      <td>NaN</td>\n",
       "      <td>NaN</td>\n",
       "      <td>NaN</td>\n",
       "      <td>NaN</td>\n",
       "    </tr>\n",
       "    <tr>\n",
       "      <th>Company type</th>\n",
       "      <td>1228</td>\n",
       "      <td>63</td>\n",
       "      <td>Product</td>\n",
       "      <td>760</td>\n",
       "      <td>NaN</td>\n",
       "      <td>NaN</td>\n",
       "      <td>NaN</td>\n",
       "      <td>NaN</td>\n",
       "      <td>NaN</td>\n",
       "      <td>NaN</td>\n",
       "      <td>NaN</td>\n",
       "    </tr>\n",
       "  </tbody>\n",
       "</table>\n",
       "</div>"
      ],
      "text/plain": [
       "                                                     count unique  \\\n",
       "Timestamp                                             1253   1248   \n",
       "Age                                                 1226.0    NaN   \n",
       "Gender                                                1243      3   \n",
       "City                                                  1253    119   \n",
       "Position                                              1247    148   \n",
       "Total years of experience                             1237     48   \n",
       "Years of experience in Germany                        1221     53   \n",
       "Seniority level                                       1241     24   \n",
       "Your main technology / programming language           1126    256   \n",
       "Other technologies/programming languages you us...    1096    562   \n",
       "Yearly brutto salary (without bonus and stocks)...  1253.0    NaN   \n",
       "Yearly bonus + stocks in EUR                           829    168   \n",
       "Number of vacation days                               1185     45   \n",
       "Employment status                                     1236     11   \n",
       "Сontract duration                                     1224      3   \n",
       "Main language at work                                 1237     14   \n",
       "Company size                                          1235      5   \n",
       "Company type                                          1228     63   \n",
       "\n",
       "                                                                        top  \\\n",
       "Timestamp                                               24/11/2020 13:55:19   \n",
       "Age                                                                     NaN   \n",
       "Gender                                                                 Male   \n",
       "City                                                                 Berlin   \n",
       "Position                                                  Software Engineer   \n",
       "Total years of experience                                                10   \n",
       "Years of experience in Germany                                            2   \n",
       "Seniority level                                                      Senior   \n",
       "Your main technology / programming language                            Java   \n",
       "Other technologies/programming languages you us...  Javascript / Typescript   \n",
       "Yearly brutto salary (without bonus and stocks)...                      NaN   \n",
       "Yearly bonus + stocks in EUR                                              0   \n",
       "Number of vacation days                                                  30   \n",
       "Employment status                                        Full-time employee   \n",
       "Сontract duration                                        Unlimited contract   \n",
       "Main language at work                                               English   \n",
       "Company size                                                          1000+   \n",
       "Company type                                                        Product   \n",
       "\n",
       "                                                    freq             mean  \\\n",
       "Timestamp                                              2              NaN   \n",
       "Age                                                  NaN        32.509788   \n",
       "Gender                                              1049              NaN   \n",
       "City                                                 681              NaN   \n",
       "Position                                             387              NaN   \n",
       "Total years of experience                            138              NaN   \n",
       "Years of experience in Germany                       195              NaN   \n",
       "Seniority level                                      565              NaN   \n",
       "Your main technology / programming language          184              NaN   \n",
       "Other technologies/programming languages you us...    44              NaN   \n",
       "Yearly brutto salary (without bonus and stocks)...   NaN  80279042.578715   \n",
       "Yearly bonus + stocks in EUR                         227              NaN   \n",
       "Number of vacation days                              488              NaN   \n",
       "Employment status                                   1190              NaN   \n",
       "Сontract duration                                   1159              NaN   \n",
       "Main language at work                               1020              NaN   \n",
       "Company size                                         448              NaN   \n",
       "Company type                                         760              NaN   \n",
       "\n",
       "                                                                  std  \\\n",
       "Timestamp                                                         NaN   \n",
       "Age                                                          5.663804   \n",
       "Gender                                                            NaN   \n",
       "City                                                              NaN   \n",
       "Position                                                          NaN   \n",
       "Total years of experience                                         NaN   \n",
       "Years of experience in Germany                                    NaN   \n",
       "Seniority level                                                   NaN   \n",
       "Your main technology / programming language                       NaN   \n",
       "Other technologies/programming languages you us...                NaN   \n",
       "Yearly brutto salary (without bonus and stocks)...  2825061107.590495   \n",
       "Yearly bonus + stocks in EUR                                      NaN   \n",
       "Number of vacation days                                           NaN   \n",
       "Employment status                                                 NaN   \n",
       "Сontract duration                                                 NaN   \n",
       "Main language at work                                             NaN   \n",
       "Company size                                                      NaN   \n",
       "Company type                                                      NaN   \n",
       "\n",
       "                                                        min      25%      50%  \\\n",
       "Timestamp                                               NaN      NaN      NaN   \n",
       "Age                                                    20.0     29.0     32.0   \n",
       "Gender                                                  NaN      NaN      NaN   \n",
       "City                                                    NaN      NaN      NaN   \n",
       "Position                                                NaN      NaN      NaN   \n",
       "Total years of experience                               NaN      NaN      NaN   \n",
       "Years of experience in Germany                          NaN      NaN      NaN   \n",
       "Seniority level                                         NaN      NaN      NaN   \n",
       "Your main technology / programming language             NaN      NaN      NaN   \n",
       "Other technologies/programming languages you us...      NaN      NaN      NaN   \n",
       "Yearly brutto salary (without bonus and stocks)...  10001.0  58800.0  70000.0   \n",
       "Yearly bonus + stocks in EUR                            NaN      NaN      NaN   \n",
       "Number of vacation days                                 NaN      NaN      NaN   \n",
       "Employment status                                       NaN      NaN      NaN   \n",
       "Сontract duration                                       NaN      NaN      NaN   \n",
       "Main language at work                                   NaN      NaN      NaN   \n",
       "Company size                                            NaN      NaN      NaN   \n",
       "Company type                                            NaN      NaN      NaN   \n",
       "\n",
       "                                                        75%            max  \n",
       "Timestamp                                               NaN            NaN  \n",
       "Age                                                    35.0           69.0  \n",
       "Gender                                                  NaN            NaN  \n",
       "City                                                    NaN            NaN  \n",
       "Position                                                NaN            NaN  \n",
       "Total years of experience                               NaN            NaN  \n",
       "Years of experience in Germany                          NaN            NaN  \n",
       "Seniority level                                         NaN            NaN  \n",
       "Your main technology / programming language             NaN            NaN  \n",
       "Other technologies/programming languages you us...      NaN            NaN  \n",
       "Yearly brutto salary (without bonus and stocks)...  80000.0  99999999999.0  \n",
       "Yearly bonus + stocks in EUR                            NaN            NaN  \n",
       "Number of vacation days                                 NaN            NaN  \n",
       "Employment status                                       NaN            NaN  \n",
       "Сontract duration                                       NaN            NaN  \n",
       "Main language at work                                   NaN            NaN  \n",
       "Company size                                            NaN            NaN  \n",
       "Company type                                            NaN            NaN  "
      ]
     },
     "execution_count": 2,
     "metadata": {},
     "output_type": "execute_result"
    }
   ],
   "source": [
    "#Load Data\n",
    "df = pd.read_csv(\"data/Euro_Salary.csv\")\n",
    "df.describe(include=\"all\").T"
   ]
  },
  {
   "cell_type": "code",
   "execution_count": 3,
   "metadata": {},
   "outputs": [
    {
     "data": {
      "text/html": [
       "<div>\n",
       "<style scoped>\n",
       "    .dataframe tbody tr th:only-of-type {\n",
       "        vertical-align: middle;\n",
       "    }\n",
       "\n",
       "    .dataframe tbody tr th {\n",
       "        vertical-align: top;\n",
       "    }\n",
       "\n",
       "    .dataframe thead th {\n",
       "        text-align: right;\n",
       "    }\n",
       "</style>\n",
       "<table border=\"1\" class=\"dataframe\">\n",
       "  <thead>\n",
       "    <tr style=\"text-align: right;\">\n",
       "      <th></th>\n",
       "      <th>Timestamp</th>\n",
       "      <th>Age</th>\n",
       "      <th>Gender</th>\n",
       "      <th>City</th>\n",
       "      <th>Position</th>\n",
       "      <th>Total years of experience</th>\n",
       "      <th>Years of experience in Germany</th>\n",
       "      <th>Seniority level</th>\n",
       "      <th>Your main technology / programming language</th>\n",
       "      <th>Other technologies/programming languages you use often</th>\n",
       "      <th>Yearly brutto salary (without bonus and stocks) in EUR</th>\n",
       "      <th>Yearly bonus + stocks in EUR</th>\n",
       "      <th>Number of vacation days</th>\n",
       "      <th>Employment status</th>\n",
       "      <th>Сontract duration</th>\n",
       "      <th>Main language at work</th>\n",
       "      <th>Company size</th>\n",
       "      <th>Company type</th>\n",
       "    </tr>\n",
       "  </thead>\n",
       "  <tbody>\n",
       "    <tr>\n",
       "      <th>0</th>\n",
       "      <td>24/11/2020 11:14:15</td>\n",
       "      <td>26.0</td>\n",
       "      <td>Male</td>\n",
       "      <td>Munich</td>\n",
       "      <td>Software Engineer</td>\n",
       "      <td>5</td>\n",
       "      <td>3</td>\n",
       "      <td>Senior</td>\n",
       "      <td>TypeScript</td>\n",
       "      <td>Kotlin, Javascript / Typescript</td>\n",
       "      <td>80000.0</td>\n",
       "      <td>5000</td>\n",
       "      <td>30</td>\n",
       "      <td>Full-time employee</td>\n",
       "      <td>Unlimited contract</td>\n",
       "      <td>English</td>\n",
       "      <td>51-100</td>\n",
       "      <td>Product</td>\n",
       "    </tr>\n",
       "    <tr>\n",
       "      <th>1</th>\n",
       "      <td>24/11/2020 11:14:16</td>\n",
       "      <td>26.0</td>\n",
       "      <td>Male</td>\n",
       "      <td>Berlin</td>\n",
       "      <td>Backend Developer</td>\n",
       "      <td>7</td>\n",
       "      <td>4</td>\n",
       "      <td>Senior</td>\n",
       "      <td>Ruby</td>\n",
       "      <td>NaN</td>\n",
       "      <td>80000.0</td>\n",
       "      <td>NaN</td>\n",
       "      <td>28</td>\n",
       "      <td>Full-time employee</td>\n",
       "      <td>Unlimited contract</td>\n",
       "      <td>English</td>\n",
       "      <td>101-1000</td>\n",
       "      <td>Product</td>\n",
       "    </tr>\n",
       "    <tr>\n",
       "      <th>2</th>\n",
       "      <td>24/11/2020 11:14:21</td>\n",
       "      <td>29.0</td>\n",
       "      <td>Male</td>\n",
       "      <td>Berlin</td>\n",
       "      <td>Software Engineer</td>\n",
       "      <td>12</td>\n",
       "      <td>6</td>\n",
       "      <td>Lead</td>\n",
       "      <td>Javascript / Typescript</td>\n",
       "      <td>Javascript / Typescript, Docker</td>\n",
       "      <td>120000.0</td>\n",
       "      <td>120000</td>\n",
       "      <td>30</td>\n",
       "      <td>Self-employed (freelancer)</td>\n",
       "      <td>Temporary contract</td>\n",
       "      <td>English</td>\n",
       "      <td>101-1000</td>\n",
       "      <td>Product</td>\n",
       "    </tr>\n",
       "    <tr>\n",
       "      <th>3</th>\n",
       "      <td>24/11/2020 11:15:24</td>\n",
       "      <td>28.0</td>\n",
       "      <td>Male</td>\n",
       "      <td>Berlin</td>\n",
       "      <td>Frontend Developer</td>\n",
       "      <td>4</td>\n",
       "      <td>1</td>\n",
       "      <td>Junior</td>\n",
       "      <td>Javascript</td>\n",
       "      <td>NaN</td>\n",
       "      <td>54000.0</td>\n",
       "      <td>NaN</td>\n",
       "      <td>24</td>\n",
       "      <td>Full-time employee</td>\n",
       "      <td>Unlimited contract</td>\n",
       "      <td>English</td>\n",
       "      <td>51-100</td>\n",
       "      <td>Startup</td>\n",
       "    </tr>\n",
       "    <tr>\n",
       "      <th>4</th>\n",
       "      <td>24/11/2020 11:15:46</td>\n",
       "      <td>37.0</td>\n",
       "      <td>Male</td>\n",
       "      <td>Berlin</td>\n",
       "      <td>Backend Developer</td>\n",
       "      <td>17</td>\n",
       "      <td>6</td>\n",
       "      <td>Senior</td>\n",
       "      <td>C# .NET</td>\n",
       "      <td>.NET, SQL, AWS, Docker</td>\n",
       "      <td>62000.0</td>\n",
       "      <td>NaN</td>\n",
       "      <td>29</td>\n",
       "      <td>Full-time employee</td>\n",
       "      <td>Unlimited contract</td>\n",
       "      <td>English</td>\n",
       "      <td>101-1000</td>\n",
       "      <td>Product</td>\n",
       "    </tr>\n",
       "  </tbody>\n",
       "</table>\n",
       "</div>"
      ],
      "text/plain": [
       "             Timestamp   Age Gender    City           Position   \\\n",
       "0  24/11/2020 11:14:15  26.0   Male  Munich   Software Engineer   \n",
       "1  24/11/2020 11:14:16  26.0   Male  Berlin   Backend Developer   \n",
       "2  24/11/2020 11:14:21  29.0   Male  Berlin   Software Engineer   \n",
       "3  24/11/2020 11:15:24  28.0   Male  Berlin  Frontend Developer   \n",
       "4  24/11/2020 11:15:46  37.0   Male  Berlin   Backend Developer   \n",
       "\n",
       "  Total years of experience Years of experience in Germany Seniority level  \\\n",
       "0                         5                              3          Senior   \n",
       "1                         7                              4          Senior   \n",
       "2                        12                              6            Lead   \n",
       "3                         4                              1          Junior   \n",
       "4                        17                              6          Senior   \n",
       "\n",
       "  Your main technology / programming language  \\\n",
       "0                                  TypeScript   \n",
       "1                                        Ruby   \n",
       "2                     Javascript / Typescript   \n",
       "3                                  Javascript   \n",
       "4                                     C# .NET   \n",
       "\n",
       "  Other technologies/programming languages you use often  \\\n",
       "0                    Kotlin, Javascript / Typescript       \n",
       "1                                                NaN       \n",
       "2                    Javascript / Typescript, Docker       \n",
       "3                                                NaN       \n",
       "4                             .NET, SQL, AWS, Docker       \n",
       "\n",
       "   Yearly brutto salary (without bonus and stocks) in EUR  \\\n",
       "0                                            80000.0        \n",
       "1                                            80000.0        \n",
       "2                                           120000.0        \n",
       "3                                            54000.0        \n",
       "4                                            62000.0        \n",
       "\n",
       "  Yearly bonus + stocks in EUR Number of vacation days  \\\n",
       "0                         5000                      30   \n",
       "1                          NaN                      28   \n",
       "2                       120000                      30   \n",
       "3                          NaN                      24   \n",
       "4                          NaN                      29   \n",
       "\n",
       "            Employment status   Сontract duration Main language at work  \\\n",
       "0          Full-time employee  Unlimited contract               English   \n",
       "1          Full-time employee  Unlimited contract               English   \n",
       "2  Self-employed (freelancer)  Temporary contract               English   \n",
       "3          Full-time employee  Unlimited contract               English   \n",
       "4          Full-time employee  Unlimited contract               English   \n",
       "\n",
       "  Company size Company type  \n",
       "0       51-100      Product  \n",
       "1     101-1000      Product  \n",
       "2     101-1000      Product  \n",
       "3       51-100      Startup  \n",
       "4     101-1000      Product  "
      ]
     },
     "execution_count": 3,
     "metadata": {},
     "output_type": "execute_result"
    }
   ],
   "source": [
    "df.head()"
   ]
  },
  {
   "cell_type": "code",
   "execution_count": 4,
   "metadata": {},
   "outputs": [
    {
     "name": "stdout",
     "output_type": "stream",
     "text": [
      "Shape:  (1253, 18)\n",
      "<class 'pandas.core.frame.DataFrame'>\n",
      "RangeIndex: 1253 entries, 0 to 1252\n",
      "Data columns (total 18 columns):\n",
      " #   Column                                                  Non-Null Count  Dtype  \n",
      "---  ------                                                  --------------  -----  \n",
      " 0   Timestamp                                               1253 non-null   object \n",
      " 1   Age                                                     1226 non-null   float64\n",
      " 2   Gender                                                  1243 non-null   object \n",
      " 3   City                                                    1253 non-null   object \n",
      " 4   Position                                                1247 non-null   object \n",
      " 5   Total years of experience                               1237 non-null   object \n",
      " 6   Years of experience in Germany                          1221 non-null   object \n",
      " 7   Seniority level                                         1241 non-null   object \n",
      " 8   Your main technology / programming language             1126 non-null   object \n",
      " 9   Other technologies/programming languages you use often  1096 non-null   object \n",
      " 10  Yearly brutto salary (without bonus and stocks) in EUR  1253 non-null   float64\n",
      " 11  Yearly bonus + stocks in EUR                            829 non-null    object \n",
      " 12  Number of vacation days                                 1185 non-null   object \n",
      " 13  Employment status                                       1236 non-null   object \n",
      " 14  Сontract duration                                       1224 non-null   object \n",
      " 15  Main language at work                                   1237 non-null   object \n",
      " 16  Company size                                            1235 non-null   object \n",
      " 17  Company type                                            1228 non-null   object \n",
      "dtypes: float64(2), object(16)\n",
      "memory usage: 176.3+ KB\n",
      "None\n"
     ]
    },
    {
     "data": {
      "text/plain": [
       "Timestamp                                                   0\n",
       "Age                                                        27\n",
       "Gender                                                     10\n",
       "City                                                        0\n",
       "Position                                                    6\n",
       "Total years of experience                                  16\n",
       "Years of experience in Germany                             32\n",
       "Seniority level                                            12\n",
       "Your main technology / programming language               127\n",
       "Other technologies/programming languages you use often    157\n",
       "Yearly brutto salary (without bonus and stocks) in EUR      0\n",
       "Yearly bonus + stocks in EUR                              424\n",
       "Number of vacation days                                    68\n",
       "Employment status                                          17\n",
       "Сontract duration                                          29\n",
       "Main language at work                                      16\n",
       "Company size                                               18\n",
       "Company type                                               25\n",
       "dtype: int64"
      ]
     },
     "metadata": {},
     "output_type": "display_data"
    }
   ],
   "source": [
    "print('Shape: ', df.shape)\n",
    "#print('Columns:', df.columns)\n",
    "print(df.info())\n",
    "display(df.isnull().sum())"
   ]
  },
  {
   "cell_type": "code",
   "execution_count": 5,
   "metadata": {},
   "outputs": [
    {
     "data": {
      "text/plain": [
       "Javascript / Typescript                                                                   44\n",
       "Python                                                                                    37\n",
       "SQL                                                                                       31\n",
       "AWS, Docker                                                                               16\n",
       "Kotlin                                                                                    15\n",
       "                                                                                          ..\n",
       "Python, Ruby, Java / Scala, Go, Rust, AWS, Kubernetes, Docker, Terraform, helm, packer     1\n",
       "Kotlin, SQL, AWS, Kubernetes, Docker                                                       1\n",
       "Python, R, Go                                                                              1\n",
       "C/C++, PHP, SQL                                                                            1\n",
       "Python, AWS, Kubernetes, Docker, terraform, ansible                                        1\n",
       "Name: Other technologies/programming languages you use often, Length: 562, dtype: int64"
      ]
     },
     "execution_count": 5,
     "metadata": {},
     "output_type": "execute_result"
    }
   ],
   "source": [
    "df[\"Other technologies/programming languages you use often\"].value_counts()"
   ]
  },
  {
   "attachments": {},
   "cell_type": "markdown",
   "metadata": {},
   "source": [
    "<h1>Answers and Explainations\n",
    "(Expand/modify as needed)"
   ]
  },
  {
   "cell_type": "code",
   "execution_count": 6,
   "metadata": {},
   "outputs": [],
   "source": [
    "# Create Functions\n",
    "\n",
    "# function to drop columns not needed\n",
    "def drop_col(data, column):\n",
    "    data.drop(columns=[column], axis=1, inplace=True)\n",
    "    return data.columns\n",
    "\n",
    "# function to Investigate column: print out unique values; nullvalues; and value count based on nsmallest @ 20\n",
    "def Explore(data, column):\n",
    "    print('Unique Values: ', data[column].nunique())\n",
    "    print('Null Values:',data[column].isnull().sum())\n",
    "    print('Type: ', data[column].dtype)\n",
    "    display(data[column].value_counts().nsmallest(n=20)) # display value_counts() with nsmallest set at 20\n",
    "    return\n",
    "\n",
    "# Function to replace column names to new name\n",
    "def replace_colmnNAME(data, column, new):\n",
    "    data.columns = data.columns.str.replace(f'{column}', f'{new}')\n",
    "    #data.columns\n",
    "    return\n",
    "    \n",
    "# Function to fill null values with MODE()\n",
    "# Since we are dealing with Age to predict Salary, we can use the median Age to replace the Null Values.\n",
    "def fill_Null_mode(data, column):\n",
    "    data[column].fillna(data[column].mode()[0], inplace=True)\n",
    "    print(f'Null vales in {column}: ', data[column].isnull().sum())\n",
    "    return\n",
    "\n",
    "# Function to fill null values with MEAN()\n",
    "# Since we are dealing with Age to predict Salary, we can use the median Age to replace the Null Values.\n",
    "def fill_Null_mean(data, column):\n",
    "    method=data[column].mean()\n",
    "    data[column].fillna(value=method, inplace=True)\n",
    "    print(f'Null vales in {column}: ',data[column].isnull().sum())\n",
    "    return\n",
    "\n",
    "# Function to fill null values with MEDIAN()\n",
    "# Since we are dealing with Age to predict Salary, we can use the median Age to replace the Null Values.\n",
    "def fill_Null_median(data, column):\n",
    "    method=data[column].median()\n",
    "    data[column].fillna(value=method, inplace=True)\n",
    "    print(f'Null vales in {column}: ',data[column].isnull().sum())\n",
    "    return\n",
    "\n",
    "# Function to replace Null Values with 0\n",
    "def fill_Null_Zero(data, column):\n",
    "    data[column] = data[column].fillna(0)\n",
    "    print('Null Values in Converted column: ', data[column].isnull().sum())\n",
    "    return\n",
    "\n",
    "# Function to fill the null values by 50% Most Popular and 50% by 2nd most Popular\n",
    "# from: https://stackoverflow.com/questions/39066260/get-first-and-second-highest-values-in-pandas-columns\n",
    "def fill_by_Mostpop_secndPop(data, column):\n",
    "    #Index the Most popular and 2nd most popular values\n",
    "    Popular=data[column].value_counts().index[:2][0] # Looking at the top two results: then take the index value at first popular\n",
    "    Popular2=data[column].value_counts().index[:2][1] # second Index for 2nd most popular value\n",
    "    #Fill 50% with most popular\n",
    "    idx=data.index[data[column].isna()]# Find initial number of nulls\n",
    "    data.loc[np.random.choice(idx, size=int(len(idx)/2), replace=False), f'{column}']=Popular\n",
    "    #Fill remaining nulls with 2nd most popular\n",
    "    idx2=data.index[data[column].isna()] # finds the remaining number of nulls\n",
    "    data.loc[np.random.choice(idx2, size=int(len(idx2)), replace=False), f'{column}']=Popular2\n",
    "    #print the Null Values \n",
    "    print('Null Values:',data[column].isnull().sum())\n",
    "    return\n",
    "\n",
    "# Function to replace ',' to '.' in column\n",
    "def string_replace(data, column):\n",
    "    data[column] = df[column].str.replace(',','.')\n",
    "    print('Null Values:',data[column].isnull().sum())\n",
    "    display(data[column].value_counts().nsmallest(n=20))\n",
    "    return\n",
    "    \n",
    "\n",
    "# function to Convert Column to Numeric using errors='coerce'\n",
    "# pandas.to_numeric(errors=''): If ‘coerce’, then invalid parsing will be set as NaN.\n",
    "# https://sparkbyexamples.com/pandas/pandas-convert-string-to-float-type-dataframe/\n",
    "def convert_to_Num(data, column):\n",
    "    data[column]=pd.to_numeric(data[column], errors='coerce')\n",
    "    return print(f'Null Values in {column}: ', data[column].isnull().sum()), print(data[column].dtype)\n",
    "    \n",
    "\n",
    "# Convert columns from Object to Categorical:\n",
    "# Advatneges: https://www.kaggle.com/questions-and-answers/251302\n",
    "def Conver_to_Cat(data, column):\n",
    "    #data[column]=data[column].astype('category')\n",
    "    data[column]=pd.Categorical(data[column])\n",
    "    return\n",
    "\n",
    "# Function to transform y to np.log(y) for TransformedTargetRegressor\n",
    "def log_transformer(y):\n",
    "    return np.log(y)"
   ]
  },
  {
   "attachments": {},
   "cell_type": "markdown",
   "metadata": {},
   "source": [
    "# Part 1: Data Wrangling / Data Cleaning"
   ]
  },
  {
   "cell_type": "code",
   "execution_count": 7,
   "metadata": {},
   "outputs": [
    {
     "data": {
      "text/plain": [
       "Index(['Age', 'Gender', 'City', 'Position ', 'Total years of experience',\n",
       "       'Years of experience in Germany', 'Seniority level',\n",
       "       'Your main technology / programming language',\n",
       "       'Other technologies/programming languages you use often',\n",
       "       'Yearly brutto salary (without bonus and stocks) in EUR',\n",
       "       'Yearly bonus + stocks in EUR', 'Number of vacation days',\n",
       "       'Employment status', 'Сontract duration', 'Main language at work',\n",
       "       'Company size', 'Company type'],\n",
       "      dtype='object')"
      ]
     },
     "execution_count": 7,
     "metadata": {},
     "output_type": "execute_result"
    }
   ],
   "source": [
    "# We dont know what timestamp represedf.nts here: Need to drop this column.\n",
    "drop_col(df, 'Timestamp')"
   ]
  },
  {
   "cell_type": "code",
   "execution_count": 8,
   "metadata": {},
   "outputs": [],
   "source": [
    "# Rename columns: they are just too long\n",
    "replace_colmnNAME(df, 'Position ', 'Position')\n",
    "replace_colmnNAME(df, 'Total years of experience', 'Total_yrs_Exp')\n",
    "replace_colmnNAME(df, 'Years of experience in Germany', 'German_Exp')\n",
    "replace_colmnNAME(df, 'Seniority level', 'Seniority_level')\n",
    "replace_colmnNAME(df, 'Your main technology / programming language', 'Main_Backgrnd')\n",
    "replace_colmnNAME(df, 'Other technologies/programming languages you use often', 'Other_Backgrnd')\n",
    "#replace_colmnNAME(df, 'Yearly brutto salary (without bonus and stocks) in EUR', 'Yearly_Salary_EUR')\n",
    "#replace_colmnNAME(df, 'Yearly bonus + stocks in EUR', 'Yearly_Bonus_EUR')\n",
    "replace_colmnNAME(df, 'Number of vacation days', 'Vac_days')\n",
    "replace_colmnNAME(df, 'Employment status', 'Empl_Status')\n",
    "replace_colmnNAME(df, 'Сontract duration', 'Contract_duration')\n",
    "replace_colmnNAME(df, 'Main language at work', 'Main_Work_Lang')\n",
    "replace_colmnNAME(df, 'Company size', 'Company_size')\n",
    "replace_colmnNAME(df, 'Company type', 'Company_type')"
   ]
  },
  {
   "cell_type": "code",
   "execution_count": 9,
   "metadata": {},
   "outputs": [
    {
     "data": {
      "text/plain": [
       "Index(['Age', 'Gender', 'City', 'Position', 'Total_yrs_Exp', 'German_Exp',\n",
       "       'Seniority_level', 'Main_Backgrnd', 'Other_Backgrnd',\n",
       "       'Yearly brutto salary (without bonus and stocks) in EUR',\n",
       "       'Yearly bonus + stocks in EUR', 'Vac_days', 'Empl_Status',\n",
       "       'Contract_duration', 'Main_Work_Lang', 'Company_size', 'Company_type'],\n",
       "      dtype='object')"
      ]
     },
     "execution_count": 9,
     "metadata": {},
     "output_type": "execute_result"
    }
   ],
   "source": [
    "df.columns"
   ]
  },
  {
   "attachments": {},
   "cell_type": "markdown",
   "metadata": {},
   "source": [
    "### Create Target Variable\n",
    "<li> df[Target]= df[Yearly brutto salary (without bonus and stocks) in EUR] + df[Yearly bonus + stocks in EUR]"
   ]
  },
  {
   "attachments": {},
   "cell_type": "markdown",
   "metadata": {},
   "source": [
    "<il>Column: Yearly brutto salary (without bonus and stocks) in EUR"
   ]
  },
  {
   "cell_type": "code",
   "execution_count": 10,
   "metadata": {},
   "outputs": [
    {
     "name": "stdout",
     "output_type": "stream",
     "text": [
      "Unique Values:  201\n",
      "Null Values: 0\n",
      "Type:  float64\n"
     ]
    },
    {
     "data": {
      "text/plain": [
       "49200.0        1\n",
       "25300.0        1\n",
       "106000.0       1\n",
       "21000.0        1\n",
       "77250.0        1\n",
       "94000.0        1\n",
       "56700.0        1\n",
       "66500.0        1\n",
       "91000.0        1\n",
       "67473.0        1\n",
       "172000.0       1\n",
       "81500.0        1\n",
       "500000000.0    1\n",
       "52800.0        1\n",
       "151872.0       1\n",
       "33000.0        1\n",
       "240000.0       1\n",
       "850000.0       1\n",
       "11000.0        1\n",
       "85600.0        1\n",
       "Name: Yearly brutto salary (without bonus and stocks) in EUR, dtype: int64"
      ]
     },
     "metadata": {},
     "output_type": "display_data"
    }
   ],
   "source": [
    "Explore(df, 'Yearly brutto salary (without bonus and stocks) in EUR')"
   ]
  },
  {
   "cell_type": "code",
   "execution_count": 11,
   "metadata": {},
   "outputs": [
    {
     "data": {
      "text/plain": [
       "<AxesSubplot:xlabel='Yearly brutto salary (without bonus and stocks) in EUR'>"
      ]
     },
     "execution_count": 11,
     "metadata": {},
     "output_type": "execute_result"
    },
    {
     "data": {
      "image/png": "[encoded data removed]",
      "text/plain": [
       "<Figure size 640x480 with 1 Axes>"
      ]
     },
     "metadata": {},
     "output_type": "display_data"
    }
   ],
   "source": [
    "sns.boxplot(x=df['Yearly brutto salary (without bonus and stocks) in EUR'])"
   ]
  },
  {
   "cell_type": "code",
   "execution_count": 12,
   "metadata": {},
   "outputs": [
    {
     "data": {
      "text/plain": [
       "6.000000e+04    85\n",
       "7.000000e+04    83\n",
       "6.500000e+04    77\n",
       "7.500000e+04    73\n",
       "8.000000e+04    66\n",
       "                ..\n",
       "1.000000e+11     1\n",
       "3.400000e+04     1\n",
       "7.930000e+04     1\n",
       "6.630000e+04     1\n",
       "3.835000e+04     1\n",
       "Name: Yearly brutto salary (without bonus and stocks) in EUR, Length: 201, dtype: int64"
      ]
     },
     "execution_count": 12,
     "metadata": {},
     "output_type": "execute_result"
    }
   ],
   "source": [
    "df['Yearly brutto salary (without bonus and stocks) in EUR'].value_counts()"
   ]
  },
  {
   "attachments": {},
   "cell_type": "markdown",
   "metadata": {},
   "source": [
    "### oooofffffff too many outliers"
   ]
  },
  {
   "cell_type": "code",
   "execution_count": 13,
   "metadata": {},
   "outputs": [
    {
     "data": {
      "text/plain": [
       "<AxesSubplot:xlabel='Yearly brutto salary (without bonus and stocks) in EUR'>"
      ]
     },
     "execution_count": 13,
     "metadata": {},
     "output_type": "execute_result"
    },
    {
     "data": {
      "image/png": "[encoded data removed]",
      "text/plain": [
       "<Figure size 640x480 with 1 Axes>"
      ]
     },
     "metadata": {},
     "output_type": "display_data"
    }
   ],
   "source": [
    "# lets limit yearly salary to a \"realistic\" limit\n",
    "ex=df.loc[df['Yearly brutto salary (without bonus and stocks) in EUR']<185000]\n",
    "sns.boxplot(x=ex['Yearly brutto salary (without bonus and stocks) in EUR'])"
   ]
  },
  {
   "cell_type": "code",
   "execution_count": 14,
   "metadata": {},
   "outputs": [
    {
     "data": {
      "text/plain": [
       "(1243, 17)"
      ]
     },
     "metadata": {},
     "output_type": "display_data"
    },
    {
     "data": {
      "text/plain": [
       "(1253, 17)"
      ]
     },
     "metadata": {},
     "output_type": "display_data"
    }
   ],
   "source": [
    "# how much of the dataframe do we loose if we put a limit on the Yearly Salary?\n",
    "display(ex.shape)\n",
    "display(df.shape)"
   ]
  },
  {
   "cell_type": "code",
   "execution_count": 15,
   "metadata": {},
   "outputs": [],
   "source": [
    "# We will loose only 10 rows (0.8% of the dataframe-pretty good) if we limit the Yearly Salary to $185000\n",
    "\n",
    "df_new=df[df['Yearly brutto salary (without bonus and stocks) in EUR']<185000]\n",
    "#df_new=df[df['Yearly brutto salary (without bonus and stocks) in EUR']<220000]\n",
    "df_new=df_new.copy()"
   ]
  },
  {
   "cell_type": "code",
   "execution_count": 16,
   "metadata": {},
   "outputs": [
    {
     "name": "stdout",
     "output_type": "stream",
     "text": [
      "Unique Values:  194\n",
      "Null Values: 0\n",
      "Type:  float64\n"
     ]
    },
    {
     "data": {
      "text/plain": [
       "62500.0     1\n",
       "106000.0    1\n",
       "49200.0     1\n",
       "25300.0     1\n",
       "84700.0     1\n",
       "21000.0     1\n",
       "66500.0     1\n",
       "77250.0     1\n",
       "50500.0     1\n",
       "56700.0     1\n",
       "108500.0    1\n",
       "91000.0     1\n",
       "67473.0     1\n",
       "94000.0     1\n",
       "81500.0     1\n",
       "52800.0     1\n",
       "151872.0    1\n",
       "33000.0     1\n",
       "11000.0     1\n",
       "85600.0     1\n",
       "Name: Yearly brutto salary (without bonus and stocks) in EUR, dtype: int64"
      ]
     },
     "metadata": {},
     "output_type": "display_data"
    }
   ],
   "source": [
    "Explore(df_new, 'Yearly brutto salary (without bonus and stocks) in EUR')"
   ]
  },
  {
   "cell_type": "code",
   "execution_count": 17,
   "metadata": {},
   "outputs": [
    {
     "data": {
      "text/plain": [
       "<AxesSubplot:xlabel='Yearly brutto salary (without bonus and stocks) in EUR', ylabel='Count'>"
      ]
     },
     "execution_count": 17,
     "metadata": {},
     "output_type": "execute_result"
    },
    {
     "data": {
      "image/png": "[encoded data removed]",
      "text/plain": [
       "<Figure size 640x480 with 1 Axes>"
      ]
     },
     "metadata": {},
     "output_type": "display_data"
    }
   ],
   "source": [
    "sns.histplot(data=df_new, x='Yearly brutto salary (without bonus and stocks) in EUR')"
   ]
  },
  {
   "attachments": {},
   "cell_type": "markdown",
   "metadata": {},
   "source": [
    "#### We reduced the null values from 201 to 194: not bad and hisplot shows a somewhat \"good even bell curve\"."
   ]
  },
  {
   "cell_type": "code",
   "execution_count": 18,
   "metadata": {},
   "outputs": [
    {
     "name": "stdout",
     "output_type": "stream",
     "text": [
      "Null vales in Yearly brutto salary (without bonus and stocks) in EUR:  0\n"
     ]
    }
   ],
   "source": [
    "# we can now fill the null values with the mean() of the yearly salary.\n",
    "fill_Null_mean(df_new, 'Yearly brutto salary (without bonus and stocks) in EUR')"
   ]
  },
  {
   "attachments": {},
   "cell_type": "markdown",
   "metadata": {},
   "source": [
    "<il>Column: Yearly bonus + stocks in EUR"
   ]
  },
  {
   "cell_type": "code",
   "execution_count": 19,
   "metadata": {},
   "outputs": [
    {
     "name": "stdout",
     "output_type": "stream",
     "text": [
      "Unique Values:  165\n",
      "Null Values: 422\n",
      "Type:  object\n"
     ]
    },
    {
     "data": {
      "text/plain": [
       "71000       1\n",
       "67000       1\n",
       "106000      1\n",
       "Na          1\n",
       "43000       1\n",
       "4400        1\n",
       "87250       1\n",
       "21000       1\n",
       "84000       1\n",
       "66500       1\n",
       "3250        1\n",
       "37968       1\n",
       "1100        1\n",
       "97000       1\n",
       "3600        1\n",
       "23000       1\n",
       "6710        1\n",
       "depends     1\n",
       "60847.32    1\n",
       "66447       1\n",
       "Name: Yearly bonus + stocks in EUR, dtype: int64"
      ]
     },
     "metadata": {},
     "output_type": "display_data"
    }
   ],
   "source": [
    "Explore(df_new, 'Yearly bonus + stocks in EUR')"
   ]
  },
  {
   "cell_type": "code",
   "execution_count": 20,
   "metadata": {},
   "outputs": [
    {
     "name": "stdout",
     "output_type": "stream",
     "text": [
      "0\n"
     ]
    }
   ],
   "source": [
    "# whats the most popular?\n",
    "print(df_new['Yearly bonus + stocks in EUR'].mode()[0])"
   ]
  },
  {
   "cell_type": "code",
   "execution_count": 21,
   "metadata": {},
   "outputs": [
    {
     "name": "stdout",
     "output_type": "stream",
     "text": [
      "Null Values in Yearly bonus + stocks in EUR:  427\n",
      "float64\n"
     ]
    },
    {
     "data": {
      "text/plain": [
       "(None, None)"
      ]
     },
     "execution_count": 21,
     "metadata": {},
     "output_type": "execute_result"
    }
   ],
   "source": [
    "# Convert Column to numeric()\n",
    "convert_to_Num(df_new, 'Yearly bonus + stocks in EUR')"
   ]
  },
  {
   "cell_type": "code",
   "execution_count": 22,
   "metadata": {},
   "outputs": [
    {
     "data": {
      "text/plain": [
       "0.0        227\n",
       "5000.0      56\n",
       "10000.0     45\n",
       "2000.0      36\n",
       "6000.0      26\n",
       "3000.0      23\n",
       "1000.0      23\n",
       "20000.0     21\n",
       "4000.0      18\n",
       "7000.0      15\n",
       "Name: Yearly bonus + stocks in EUR, dtype: int64"
      ]
     },
     "execution_count": 22,
     "metadata": {},
     "output_type": "execute_result"
    }
   ],
   "source": [
    "df_new['Yearly bonus + stocks in EUR'].value_counts().head(10)"
   ]
  },
  {
   "cell_type": "code",
   "execution_count": 23,
   "metadata": {},
   "outputs": [],
   "source": [
    "# there are 227 Values that represent $0 Bonus. The next most popular is $5000 @ 56\n",
    "# should we replace null values with just the most popular or should we populate the null values by 50%: $0 and 50% $5000\n",
    "# I think in this case, we should fill null values with the most popular: $0 since the ratio of 0 values is huge\n",
    "# in reality, as we see below at column Position, there are 80 that are are entry level."
   ]
  },
  {
   "cell_type": "code",
   "execution_count": 24,
   "metadata": {},
   "outputs": [
    {
     "name": "stdout",
     "output_type": "stream",
     "text": [
      "Null Values in Converted column:  0\n"
     ]
    }
   ],
   "source": [
    "# Fill null values with zero as most people in the dataframe did not receive any extra money beyond their basic salary.\n",
    "fill_Null_Zero(df_new, 'Yearly bonus + stocks in EUR')"
   ]
  },
  {
   "cell_type": "code",
   "execution_count": 25,
   "metadata": {},
   "outputs": [
    {
     "data": {
      "text/plain": [
       "<AxesSubplot:xlabel='Yearly bonus + stocks in EUR'>"
      ]
     },
     "execution_count": 25,
     "metadata": {},
     "output_type": "execute_result"
    },
    {
     "data": {
      "image/png": "[encoded data removed]",
      "text/plain": [
       "<Figure size 640x480 with 1 Axes>"
      ]
     },
     "metadata": {},
     "output_type": "display_data"
    }
   ],
   "source": [
    "sns.boxplot(x=df_new['Yearly bonus + stocks in EUR'])"
   ]
  },
  {
   "cell_type": "code",
   "execution_count": 26,
   "metadata": {},
   "outputs": [
    {
     "data": {
      "text/plain": [
       "<AxesSubplot:xlabel='Yearly bonus + stocks in EUR', ylabel='Count'>"
      ]
     },
     "execution_count": 26,
     "metadata": {},
     "output_type": "execute_result"
    },
    {
     "data": {
      "image/png": "[encoded data removed]",
      "text/plain": [
       "<Figure size 640x480 with 1 Axes>"
      ]
     },
     "metadata": {},
     "output_type": "display_data"
    }
   ],
   "source": [
    "sns.histplot(data=df_new, x='Yearly bonus + stocks in EUR')"
   ]
  },
  {
   "attachments": {},
   "cell_type": "markdown",
   "metadata": {},
   "source": [
    "Pretty normal since most of the candidates did not have a bonus."
   ]
  },
  {
   "cell_type": "code",
   "execution_count": 27,
   "metadata": {},
   "outputs": [
    {
     "data": {
      "text/html": [
       "<div>\n",
       "<style scoped>\n",
       "    .dataframe tbody tr th:only-of-type {\n",
       "        vertical-align: middle;\n",
       "    }\n",
       "\n",
       "    .dataframe tbody tr th {\n",
       "        vertical-align: top;\n",
       "    }\n",
       "\n",
       "    .dataframe thead th {\n",
       "        text-align: right;\n",
       "    }\n",
       "</style>\n",
       "<table border=\"1\" class=\"dataframe\">\n",
       "  <thead>\n",
       "    <tr style=\"text-align: right;\">\n",
       "      <th></th>\n",
       "      <th>Age</th>\n",
       "      <th>Gender</th>\n",
       "      <th>City</th>\n",
       "      <th>Position</th>\n",
       "      <th>Total_yrs_Exp</th>\n",
       "      <th>German_Exp</th>\n",
       "      <th>Seniority_level</th>\n",
       "      <th>Main_Backgrnd</th>\n",
       "      <th>Other_Backgrnd</th>\n",
       "      <th>Vac_days</th>\n",
       "      <th>Empl_Status</th>\n",
       "      <th>Contract_duration</th>\n",
       "      <th>Main_Work_Lang</th>\n",
       "      <th>Company_size</th>\n",
       "      <th>Company_type</th>\n",
       "      <th>Target</th>\n",
       "    </tr>\n",
       "  </thead>\n",
       "  <tbody>\n",
       "    <tr>\n",
       "      <th>0</th>\n",
       "      <td>26.0</td>\n",
       "      <td>Male</td>\n",
       "      <td>Munich</td>\n",
       "      <td>Software Engineer</td>\n",
       "      <td>5</td>\n",
       "      <td>3</td>\n",
       "      <td>Senior</td>\n",
       "      <td>TypeScript</td>\n",
       "      <td>Kotlin, Javascript / Typescript</td>\n",
       "      <td>30</td>\n",
       "      <td>Full-time employee</td>\n",
       "      <td>Unlimited contract</td>\n",
       "      <td>English</td>\n",
       "      <td>51-100</td>\n",
       "      <td>Product</td>\n",
       "      <td>85000.0</td>\n",
       "    </tr>\n",
       "    <tr>\n",
       "      <th>1</th>\n",
       "      <td>26.0</td>\n",
       "      <td>Male</td>\n",
       "      <td>Berlin</td>\n",
       "      <td>Backend Developer</td>\n",
       "      <td>7</td>\n",
       "      <td>4</td>\n",
       "      <td>Senior</td>\n",
       "      <td>Ruby</td>\n",
       "      <td>NaN</td>\n",
       "      <td>28</td>\n",
       "      <td>Full-time employee</td>\n",
       "      <td>Unlimited contract</td>\n",
       "      <td>English</td>\n",
       "      <td>101-1000</td>\n",
       "      <td>Product</td>\n",
       "      <td>80000.0</td>\n",
       "    </tr>\n",
       "  </tbody>\n",
       "</table>\n",
       "</div>"
      ],
      "text/plain": [
       "    Age Gender    City           Position Total_yrs_Exp German_Exp  \\\n",
       "0  26.0   Male  Munich  Software Engineer             5          3   \n",
       "1  26.0   Male  Berlin  Backend Developer             7          4   \n",
       "\n",
       "  Seniority_level Main_Backgrnd                   Other_Backgrnd Vac_days  \\\n",
       "0          Senior    TypeScript  Kotlin, Javascript / Typescript       30   \n",
       "1          Senior          Ruby                              NaN       28   \n",
       "\n",
       "          Empl_Status   Contract_duration Main_Work_Lang Company_size  \\\n",
       "0  Full-time employee  Unlimited contract        English       51-100   \n",
       "1  Full-time employee  Unlimited contract        English     101-1000   \n",
       "\n",
       "  Company_type   Target  \n",
       "0      Product  85000.0  \n",
       "1      Product  80000.0  "
      ]
     },
     "execution_count": 27,
     "metadata": {},
     "output_type": "execute_result"
    }
   ],
   "source": [
    "# Create Target\n",
    "df_new['Target']=df_new['Yearly brutto salary (without bonus and stocks) in EUR'] + df_new['Yearly bonus + stocks in EUR']\n",
    "\n",
    "# drop the columns as we do not need them anymore once we create the calculated Target column\n",
    "drop_col(df_new, 'Yearly bonus + stocks in EUR')\n",
    "drop_col(df_new, 'Yearly brutto salary (without bonus and stocks) in EUR')\n",
    "\n",
    "# Did it work?\n",
    "df_new.head(2)"
   ]
  },
  {
   "attachments": {},
   "cell_type": "markdown",
   "metadata": {},
   "source": [
    "### Investigate our new 'Target' column"
   ]
  },
  {
   "cell_type": "code",
   "execution_count": 28,
   "metadata": {},
   "outputs": [
    {
     "data": {
      "text/plain": [
       "count    1.243000e+03\n",
       "mean     8.347929e+04\n",
       "std      5.062216e+04\n",
       "min      1.000100e+04\n",
       "25%      6.000000e+04\n",
       "50%      7.300000e+04\n",
       "75%      9.000000e+04\n",
       "max      1.240000e+06\n",
       "Name: Target, dtype: float64"
      ]
     },
     "execution_count": 28,
     "metadata": {},
     "output_type": "execute_result"
    }
   ],
   "source": [
    "df_new['Target'].describe()"
   ]
  },
  {
   "cell_type": "code",
   "execution_count": 29,
   "metadata": {},
   "outputs": [
    {
     "data": {
      "text/plain": [
       "<AxesSubplot:xlabel='Target'>"
      ]
     },
     "execution_count": 29,
     "metadata": {},
     "output_type": "execute_result"
    },
    {
     "data": {
      "image/png": "[encoded data removed]",
      "text/plain": [
       "<Figure size 640x480 with 1 Axes>"
      ]
     },
     "metadata": {},
     "output_type": "display_data"
    }
   ],
   "source": [
    "sns.boxplot(x=df_new['Target'])"
   ]
  },
  {
   "cell_type": "code",
   "execution_count": 30,
   "metadata": {},
   "outputs": [
    {
     "data": {
      "text/plain": [
       "<AxesSubplot:xlabel='Target', ylabel='Count'>"
      ]
     },
     "execution_count": 30,
     "metadata": {},
     "output_type": "execute_result"
    },
    {
     "data": {
      "image/png": "[encoded data removed]",
      "text/plain": [
       "<Figure size 640x480 with 1 Axes>"
      ]
     },
     "metadata": {},
     "output_type": "display_data"
    }
   ],
   "source": [
    "sns.histplot(data=df_new, x='Target')"
   ]
  },
  {
   "cell_type": "code",
   "execution_count": 31,
   "metadata": {},
   "outputs": [
    {
     "data": {
      "text/plain": [
       "10001.0"
      ]
     },
     "execution_count": 31,
     "metadata": {},
     "output_type": "execute_result"
    }
   ],
   "source": [
    "df_new['Target'].min()"
   ]
  },
  {
   "cell_type": "code",
   "execution_count": 32,
   "metadata": {},
   "outputs": [],
   "source": [
    "# The Target column is highly skewed: We may need to re-generate the model with the LOG variant of our Target."
   ]
  },
  {
   "cell_type": "code",
   "execution_count": 33,
   "metadata": {},
   "outputs": [],
   "source": [
    "# Now lets look at the rest of the columns:"
   ]
  },
  {
   "attachments": {},
   "cell_type": "markdown",
   "metadata": {},
   "source": [
    "### Column: Age"
   ]
  },
  {
   "cell_type": "code",
   "execution_count": 34,
   "metadata": {},
   "outputs": [
    {
     "name": "stdout",
     "output_type": "stream",
     "text": [
      "Unique Values:  39\n",
      "Null Values: 26\n",
      "Type:  float64\n"
     ]
    },
    {
     "data": {
      "text/plain": [
       "53.0     1\n",
       "65.0     1\n",
       "66.0     1\n",
       "50.0     1\n",
       "51.0     1\n",
       "21.0     1\n",
       "59.0     1\n",
       "69.0     1\n",
       "52.0     1\n",
       "54.0     2\n",
       "49.0     2\n",
       "56.0     2\n",
       "47.0     3\n",
       "48.0     4\n",
       "22.0     8\n",
       "44.0     8\n",
       "46.0     8\n",
       "45.0    10\n",
       "43.0    10\n",
       "23.0    12\n",
       "Name: Age, dtype: int64"
      ]
     },
     "metadata": {},
     "output_type": "display_data"
    }
   ],
   "source": [
    "Explore(df_new, 'Age')"
   ]
  },
  {
   "cell_type": "code",
   "execution_count": 35,
   "metadata": {},
   "outputs": [
    {
     "name": "stdout",
     "output_type": "stream",
     "text": [
      "Null vales in Age:  0\n"
     ]
    }
   ],
   "source": [
    "# Since we are dealing with Age to predict Salary, we can use the median Age to replace the Null Values.\n",
    "fill_Null_median(df_new, 'Age')"
   ]
  },
  {
   "cell_type": "code",
   "execution_count": 36,
   "metadata": {},
   "outputs": [
    {
     "data": {
      "text/plain": [
       "<AxesSubplot:xlabel='Age', ylabel='Count'>"
      ]
     },
     "execution_count": 36,
     "metadata": {},
     "output_type": "execute_result"
    },
    {
     "data": {
      "image/png": "[encoded data removed]",
      "text/plain": [
       "<Figure size 640x480 with 1 Axes>"
      ]
     },
     "metadata": {},
     "output_type": "display_data"
    }
   ],
   "source": [
    "sns.histplot(data=df_new, x='Age')"
   ]
  },
  {
   "attachments": {},
   "cell_type": "markdown",
   "metadata": {},
   "source": [
    "### Column: Gender"
   ]
  },
  {
   "cell_type": "code",
   "execution_count": 37,
   "metadata": {},
   "outputs": [
    {
     "name": "stdout",
     "output_type": "stream",
     "text": [
      "Unique Values:  3\n",
      "Null Values: 9\n",
      "Type:  object\n"
     ]
    },
    {
     "data": {
      "text/plain": [
       "Diverse       2\n",
       "Female      191\n",
       "Male       1041\n",
       "Name: Gender, dtype: int64"
      ]
     },
     "metadata": {},
     "output_type": "display_data"
    }
   ],
   "source": [
    "Explore(df_new, 'Gender')"
   ]
  },
  {
   "cell_type": "code",
   "execution_count": 38,
   "metadata": {},
   "outputs": [
    {
     "name": "stdout",
     "output_type": "stream",
     "text": [
      "Null Values: 0\n"
     ]
    }
   ],
   "source": [
    "# To get rid of Bias; we fill half the null values witht he most popular and remaining with the 2nd most popular.\n",
    "fill_by_Mostpop_secndPop(df_new, 'Gender')"
   ]
  },
  {
   "cell_type": "code",
   "execution_count": 39,
   "metadata": {},
   "outputs": [
    {
     "data": {
      "text/plain": [
       "<AxesSubplot:xlabel='Gender', ylabel='count'>"
      ]
     },
     "execution_count": 39,
     "metadata": {},
     "output_type": "execute_result"
    },
    {
     "data": {
      "image/png": "[encoded data removed]",
      "text/plain": [
       "<Figure size 640x480 with 1 Axes>"
      ]
     },
     "metadata": {},
     "output_type": "display_data"
    }
   ],
   "source": [
    "sns.countplot(data=df_new, x='Gender')"
   ]
  },
  {
   "cell_type": "code",
   "execution_count": 40,
   "metadata": {},
   "outputs": [],
   "source": [
    "# For Gender Column, we have 10 missing values with 3 unique values\n",
    "# We can replace the null values with the most common category using .mode()\n",
    "# Generally mode is the best way to fill null values in Categorical columns.\n",
    "#fill_Null_mode(df_new, 'Gender')"
   ]
  },
  {
   "attachments": {},
   "cell_type": "markdown",
   "metadata": {},
   "source": [
    "### Column: City"
   ]
  },
  {
   "cell_type": "code",
   "execution_count": 41,
   "metadata": {},
   "outputs": [],
   "source": [
    "German_Cities=['Berlin','Hamburg','Munich', 'München','Cologne' ,'Köln','Frankfurt', 'Frankfurt am Main','Frankfurt','Stuttgart',\n",
    "'Düsseldorf','Dortmund','Essen','Leipzig','Bremen','Dresden','Hanover','Hannover','Nuremberg' ,'Nürnberg','Nurnberg','Duisburg','Bochum','Wuppertal',\n",
    "'Bielefeld','Bonn','Münster','Karlsruhe','Mannheim','Augsburg','Wiesbaden','Gelsenkirchen','Mönchengladbach','Monchengladbach','Braunschweig','Chemnitz','Kiel',\n",
    "'Aachen','Halle', 'Saale','Magdeburg','Freiburg im Breisgau','Krefeld','Lübeck','Lubeck','Oberhausen','Erfurt','Mainz','Rostock','Kassel','Hagen','Hamm',\n",
    "'Saarbrücken','Saarbrucken','Mülheim an der Ruhr','Potsdam','Ludwigshafen am Rhein','Oldenburg','Leverkusen','Osnabrück','Osnabruck','Solingen','Heidelberg','Herne',\n",
    "'Neuss','Darmstadt','Paderborn','Regensburg','Ingolstadt','Würzburg','Wurzburg','Fürth','Wolfsburg','Offenbach am Main','Ulm','Heilbronn','Pforzheim','Göttingen','Gottingen','Bottrop','Trier',\n",
    "'Recklinghausen','Reutlingen','Bremerhaven','Koblenz','Bergisch Gladbach','Jena','Remscheid','Erlangen','Moers',\n",
    "'Siegen','Hildesheim','Salzgitter']"
   ]
  },
  {
   "cell_type": "code",
   "execution_count": 42,
   "metadata": {},
   "outputs": [
    {
     "name": "stdout",
     "output_type": "stream",
     "text": [
      "Unique Values:  118\n",
      "Null Values: 0\n",
      "Type:  object\n"
     ]
    },
    {
     "data": {
      "text/plain": [
       "Brussels                 1\n",
       "Dublin                   1\n",
       "Copenhagen               1\n",
       "Sevilla                  1\n",
       "Brunswick                1\n",
       "City in Russia           1\n",
       "Cracow                   1\n",
       "Krakow                   1\n",
       "Ingolstadt               1\n",
       "Jena                     1\n",
       "Dortmund                 1\n",
       "Heilbronn                1\n",
       "Warsaw, Poland           1\n",
       "Sofia                    1\n",
       "Brussels                 1\n",
       "Cambridge                1\n",
       "Hildesheim               1\n",
       "Zürich                   1\n",
       "Murnau am Staffelsee     1\n",
       "Prefer not to say        1\n",
       "Name: City, dtype: int64"
      ]
     },
     "metadata": {},
     "output_type": "display_data"
    }
   ],
   "source": [
    "Explore(df_new, 'City')"
   ]
  },
  {
   "cell_type": "code",
   "execution_count": 43,
   "metadata": {},
   "outputs": [],
   "source": [
    "# Function to Map and group the various Cities into From_Germany or Outside_Germany\n",
    "def map_function5(value):\n",
    "    if value in German_Cities:\n",
    "        return \"From_Germany\"\n",
    "    else:\n",
    "        return \"Outside_Germany\"\n",
    "\n",
    "#df_new['City'] = df_new[\"City\"].apply(lambda x: x.split()[0]).map(map_function5) #just incase, people entered two values, we always take the first City entered.\n",
    "df_new['City'] = df_new[\"City\"].map(map_function5)"
   ]
  },
  {
   "cell_type": "code",
   "execution_count": 44,
   "metadata": {},
   "outputs": [
    {
     "data": {
      "text/plain": [
       "From_Germany       1100\n",
       "Outside_Germany     143\n",
       "Name: City, dtype: int64"
      ]
     },
     "execution_count": 44,
     "metadata": {},
     "output_type": "execute_result"
    }
   ],
   "source": [
    "df_new['City'].value_counts()"
   ]
  },
  {
   "cell_type": "code",
   "execution_count": 45,
   "metadata": {},
   "outputs": [
    {
     "data": {
      "text/plain": [
       "<AxesSubplot:xlabel='City', ylabel='count'>"
      ]
     },
     "execution_count": 45,
     "metadata": {},
     "output_type": "execute_result"
    },
    {
     "data": {
      "image/png": "[encoded data removed]",
      "text/plain": [
       "<Figure size 640x480 with 1 Axes>"
      ]
     },
     "metadata": {},
     "output_type": "display_data"
    }
   ],
   "source": [
    "sns.countplot(data=df_new, x='City')"
   ]
  },
  {
   "attachments": {},
   "cell_type": "markdown",
   "metadata": {},
   "source": [
    "### Column: Position"
   ]
  },
  {
   "cell_type": "code",
   "execution_count": 46,
   "metadata": {},
   "outputs": [
    {
     "name": "stdout",
     "output_type": "stream",
     "text": [
      "Unique Values:  147\n",
      "Null Values: 5\n",
      "Type:  object\n"
     ]
    },
    {
     "data": {
      "text/plain": [
       "Security engineer                   1\n",
       "support engineer                    1\n",
       "Technical project manager           1\n",
       "Head of BI                          1\n",
       "Senior Scrum Master (RTE)           1\n",
       "BI Developer / Data Engineer        1\n",
       "BI Analyst                          1\n",
       "Project manager                     1\n",
       "working student (QA)                1\n",
       "Tech recruiting                     1\n",
       "data engineer                       1\n",
       "Architect                           1\n",
       "Head of IT                          1\n",
       "Analyst                             1\n",
       "Senior Data Engineer                1\n",
       "Teamlead                            1\n",
       "Dana Analyst                        1\n",
       "Big Data Engineer                   1\n",
       "computer vision researcher          1\n",
       "BI Consultant SAP/ Data Engineer    1\n",
       "Name: Position, dtype: int64"
      ]
     },
     "metadata": {},
     "output_type": "display_data"
    }
   ],
   "source": [
    "Explore(df_new, 'Position')"
   ]
  },
  {
   "cell_type": "code",
   "execution_count": 47,
   "metadata": {},
   "outputs": [
    {
     "data": {
      "text/plain": [
       "1212                        Frontend Developer\n",
       "1213                         Software Engineer\n",
       "1214                         Backend Developer\n",
       "1215                         Software Engineer\n",
       "1216                         Backend Developer\n",
       "1217                         Backend Developer\n",
       "1218                         Software Engineer\n",
       "1219                          Mobile Developer\n",
       "1220                         Software Engineer\n",
       "1221                        Software Architekt\n",
       "1222                         Software Engineer\n",
       "1224                         Backend Developer\n",
       "1225                        Frontend Developer\n",
       "1226                         Software Engineer\n",
       "1227                        Frontend Developer\n",
       "1228                         Software Engineer\n",
       "1229                               ML Engineer\n",
       "1230                         Software Engineer\n",
       "1231                                       NaN\n",
       "1232                         Software Engineer\n",
       "1233                               Testmanager\n",
       "1234                           Project Manager\n",
       "1235                           Project Manager\n",
       "1236                               QA Engineer\n",
       "1237                          Mobile Developer\n",
       "1238                         Software Engineer\n",
       "1239                              Data Analyst\n",
       "1240                            Data Scientist\n",
       "1241                                       SRE\n",
       "1242                            ERP Consultant\n",
       "1243                               QA Engineer\n",
       "1244                         Software Engineer\n",
       "1245                        Frontend Developer\n",
       "1246                       Head of Engineering\n",
       "1247                         Software Engineer\n",
       "1248                         Backend Developer\n",
       "1249    Researcher/ Consumer Insights Analyst \n",
       "1250                     IT Operations Manager\n",
       "1251                        Frontend Developer\n",
       "1252                                    DevOps\n",
       "Name: Position, dtype: object"
      ]
     },
     "execution_count": 47,
     "metadata": {},
     "output_type": "execute_result"
    }
   ],
   "source": [
    "df_new['Position'].tail(40)"
   ]
  },
  {
   "cell_type": "code",
   "execution_count": 48,
   "metadata": {},
   "outputs": [
    {
     "name": "stdout",
     "output_type": "stream",
     "text": [
      "Null Values: 0\n"
     ]
    }
   ],
   "source": [
    "# we have 6 null values and 148 unique instances.\n",
    "# To get rid of Bias; we fill half the null values witht he most popular and remaining with the 2nd most popular.\n",
    "fill_by_Mostpop_secndPop(df_new, 'Position')"
   ]
  },
  {
   "cell_type": "code",
   "execution_count": 49,
   "metadata": {},
   "outputs": [],
   "source": [
    "# Function to Map and grouo the various Position Titles into Software Engineer, Software Developer etc.\n",
    "def map_function(value):\n",
    "    if value in [\"Engineer\", 'Developer']:\n",
    "        return \"Software Engineer/Developer\"\n",
    "    elif value in ['Analyst']:\n",
    "        return \"Data Analyst\"\n",
    "    elif value in [\"Scientist\"]:\n",
    "        return \"Data Scientist\"\n",
    "    elif value in [\"Manager\"]:\n",
    "        return \"IT Manager\"\n",
    "    elif value == \"Devops\":\n",
    "        return \"Devops\"\n",
    "    else:\n",
    "        return \"Other\"\n",
    "\n",
    "df_new['Position'] = df_new[\"Position\"].apply(lambda x: x.split()[-1]).map(map_function) # maps to the second index of the title"
   ]
  },
  {
   "cell_type": "code",
   "execution_count": 50,
   "metadata": {},
   "outputs": [
    {
     "data": {
      "text/plain": [
       "Software Engineer/Developer    870\n",
       "Other                          177\n",
       "Data Scientist                 109\n",
       "IT Manager                      67\n",
       "Data Analyst                    20\n",
       "Name: Position, dtype: int64"
      ]
     },
     "execution_count": 50,
     "metadata": {},
     "output_type": "execute_result"
    }
   ],
   "source": [
    "df_new['Position'].value_counts()"
   ]
  },
  {
   "cell_type": "code",
   "execution_count": 51,
   "metadata": {},
   "outputs": [
    {
     "data": {
      "text/plain": [
       "<AxesSubplot:xlabel='Position', ylabel='count'>"
      ]
     },
     "execution_count": 51,
     "metadata": {},
     "output_type": "execute_result"
    },
    {
     "data": {
      "image/png": "[encoded data removed]",
      "text/plain": [
       "<Figure size 640x480 with 1 Axes>"
      ]
     },
     "metadata": {},
     "output_type": "display_data"
    }
   ],
   "source": [
    "sns.countplot(data=df_new, x='Position')"
   ]
  },
  {
   "attachments": {},
   "cell_type": "markdown",
   "metadata": {},
   "source": [
    "### Column: Total_yrs_Exp"
   ]
  },
  {
   "cell_type": "code",
   "execution_count": 52,
   "metadata": {},
   "outputs": [
    {
     "name": "stdout",
     "output_type": "stream",
     "text": [
      "Unique Values:  48\n",
      "Null Values: 15\n",
      "Type:  object\n"
     ]
    },
    {
     "data": {
      "text/plain": [
       "383                                                    1\n",
       "6 (not as a data scientist, but as a lab scientist)    1\n",
       "31                                                     1\n",
       "15, thereof 8 as CTO                                   1\n",
       "2,5                                                    1\n",
       "1 (as QA Engineer) / 11 in total                       1\n",
       "5.5                                                    1\n",
       "24                                                     1\n",
       "29                                                     1\n",
       "28                                                     1\n",
       "7.5                                                    1\n",
       "6.5                                                    1\n",
       "40                                                     1\n",
       "26                                                     1\n",
       "less than year                                         1\n",
       "1,5                                                    2\n",
       "27                                                     2\n",
       "3.5                                                    2\n",
       "0.8                                                    2\n",
       "1.5                                                    2\n",
       "Name: Total_yrs_Exp, dtype: int64"
      ]
     },
     "metadata": {},
     "output_type": "display_data"
    }
   ],
   "source": [
    "Explore(df_new, 'Total_yrs_Exp')"
   ]
  },
  {
   "cell_type": "code",
   "execution_count": 53,
   "metadata": {},
   "outputs": [
    {
     "name": "stdout",
     "output_type": "stream",
     "text": [
      "Null Values: 15\n"
     ]
    },
    {
     "data": {
      "text/plain": [
       "6 (not as a data scientist. but as a lab scientist)    1\n",
       "31                                                     1\n",
       "15. thereof 8 as CTO                                   1\n",
       "1 (as QA Engineer) / 11 in total                       1\n",
       "383                                                    1\n",
       "5.5                                                    1\n",
       "24                                                     1\n",
       "29                                                     1\n",
       "28                                                     1\n",
       "7.5                                                    1\n",
       "6.5                                                    1\n",
       "26                                                     1\n",
       "40                                                     1\n",
       "less than year                                         1\n",
       "23                                                     2\n",
       "4.5                                                    2\n",
       "3.5                                                    2\n",
       "0.8                                                    2\n",
       "27                                                     2\n",
       "21                                                     3\n",
       "Name: Total_yrs_Exp, dtype: int64"
      ]
     },
     "metadata": {},
     "output_type": "display_data"
    }
   ],
   "source": [
    "# Replace the ',' between the characters with '.'\n",
    "string_replace(df_new, 'Total_yrs_Exp')"
   ]
  },
  {
   "cell_type": "code",
   "execution_count": 54,
   "metadata": {},
   "outputs": [
    {
     "name": "stdout",
     "output_type": "stream",
     "text": [
      "Null Values in Total_yrs_Exp:  19\n",
      "float64\n"
     ]
    },
    {
     "data": {
      "text/plain": [
       "(None, None)"
      ]
     },
     "execution_count": 54,
     "metadata": {},
     "output_type": "execute_result"
    }
   ],
   "source": [
    "# Convert the column to Numerical\n",
    "convert_to_Num(df_new, 'Total_yrs_Exp')"
   ]
  },
  {
   "cell_type": "code",
   "execution_count": 55,
   "metadata": {},
   "outputs": [
    {
     "name": "stdout",
     "output_type": "stream",
     "text": [
      "Null vales in Total_yrs_Exp:  0\n"
     ]
    }
   ],
   "source": [
    "# fill null values with mean\n",
    "fill_Null_mean(df_new, 'Total_yrs_Exp')"
   ]
  },
  {
   "cell_type": "code",
   "execution_count": 56,
   "metadata": {},
   "outputs": [
    {
     "data": {
      "text/plain": [
       "<AxesSubplot:xlabel='Total_yrs_Exp', ylabel='Count'>"
      ]
     },
     "execution_count": 56,
     "metadata": {},
     "output_type": "execute_result"
    },
    {
     "data": {
      "image/png": "[encoded data removed]",
      "text/plain": [
       "<Figure size 640x480 with 1 Axes>"
      ]
     },
     "metadata": {},
     "output_type": "display_data"
    }
   ],
   "source": [
    "sns.histplot(data=df_new, x='Total_yrs_Exp')"
   ]
  },
  {
   "attachments": {},
   "cell_type": "markdown",
   "metadata": {},
   "source": [
    "### # Column: German_Exp"
   ]
  },
  {
   "cell_type": "code",
   "execution_count": 57,
   "metadata": {},
   "outputs": [
    {
     "name": "stdout",
     "output_type": "stream",
     "text": [
      "Unique Values:  53\n",
      "Null Values: 31\n",
      "Type:  object\n"
     ]
    },
    {
     "data": {
      "text/plain": [
       "3 months                                               1\n",
       "⁰                                                      1\n",
       "<1                                                     1\n",
       "3 (in Poland)                                          1\n",
       "0,3                                                    1\n",
       "-                                                      1\n",
       "2.6                                                    1\n",
       "0.1                                                    1\n",
       "4.5                                                    1\n",
       "6 (not as a data scientist, but as a lab scientist)    1\n",
       "0.2                                                    1\n",
       "4 (in Switzerland), 0 (in Germany)                     1\n",
       "26                                                     1\n",
       "4 month                                                1\n",
       "17                                                     1\n",
       "16                                                     1\n",
       "< 1                                                    1\n",
       "25                                                     1\n",
       "0.9                                                    1\n",
       "0.4                                                    1\n",
       "Name: German_Exp, dtype: int64"
      ]
     },
     "metadata": {},
     "output_type": "display_data"
    }
   ],
   "source": [
    "Explore(df_new, 'German_Exp')"
   ]
  },
  {
   "cell_type": "code",
   "execution_count": 58,
   "metadata": {},
   "outputs": [
    {
     "name": "stdout",
     "output_type": "stream",
     "text": [
      "Null Values: 31\n"
     ]
    },
    {
     "data": {
      "text/plain": [
       "6 (not as a data scientist. but as a lab scientist)    1\n",
       "-                                                      1\n",
       "0.3                                                    1\n",
       "⁰                                                      1\n",
       "3 months                                               1\n",
       "<1                                                     1\n",
       "3 (in Poland)                                          1\n",
       "2.6                                                    1\n",
       "0.1                                                    1\n",
       "0.2                                                    1\n",
       "1.7                                                    1\n",
       "26                                                     1\n",
       "4 month                                                1\n",
       "17                                                     1\n",
       "16                                                     1\n",
       "4 (in Switzerland). 0 (in Germany)                     1\n",
       "< 1                                                    1\n",
       "25                                                     1\n",
       "0.9                                                    1\n",
       "0.8                                                    1\n",
       "Name: German_Exp, dtype: int64"
      ]
     },
     "metadata": {},
     "output_type": "display_data"
    }
   ],
   "source": [
    "string_replace(df_new, 'German_Exp')"
   ]
  },
  {
   "cell_type": "code",
   "execution_count": 59,
   "metadata": {},
   "outputs": [
    {
     "name": "stdout",
     "output_type": "stream",
     "text": [
      "Null Values in German_Exp:  41\n",
      "float64\n"
     ]
    },
    {
     "data": {
      "text/plain": [
       "(None, None)"
      ]
     },
     "execution_count": 59,
     "metadata": {},
     "output_type": "execute_result"
    }
   ],
   "source": [
    "convert_to_Num(df_new, 'German_Exp')"
   ]
  },
  {
   "cell_type": "code",
   "execution_count": 60,
   "metadata": {},
   "outputs": [
    {
     "name": "stdout",
     "output_type": "stream",
     "text": [
      "Null vales in German_Exp:  0\n"
     ]
    }
   ],
   "source": [
    "# Fill null values with median\n",
    "fill_Null_median(df_new, 'German_Exp')"
   ]
  },
  {
   "cell_type": "code",
   "execution_count": 61,
   "metadata": {},
   "outputs": [
    {
     "data": {
      "text/plain": [
       "<AxesSubplot:xlabel='German_Exp', ylabel='Count'>"
      ]
     },
     "execution_count": 61,
     "metadata": {},
     "output_type": "execute_result"
    },
    {
     "data": {
      "image/png": "[encoded data removed]",
      "text/plain": [
       "<Figure size 640x480 with 1 Axes>"
      ]
     },
     "metadata": {},
     "output_type": "display_data"
    }
   ],
   "source": [
    "sns.histplot(data=df_new, x='German_Exp')"
   ]
  },
  {
   "attachments": {},
   "cell_type": "markdown",
   "metadata": {},
   "source": [
    "### # Column: Seniority_level"
   ]
  },
  {
   "cell_type": "code",
   "execution_count": 62,
   "metadata": {},
   "outputs": [
    {
     "name": "stdout",
     "output_type": "stream",
     "text": [
      "Unique Values:  22\n",
      "Null Values: 11\n",
      "Type:  object\n"
     ]
    },
    {
     "data": {
      "text/plain": [
       "Intern                                         1\n",
       "Entry level                                    1\n",
       "Working Student                                1\n",
       "C-Level                                        1\n",
       "no idea, there are no ranges in the firm       1\n",
       "Student                                        1\n",
       "intern                                         1\n",
       "Key                                            1\n",
       "C-level executive manager                      1\n",
       "Director                                       1\n",
       "No level                                       1\n",
       "Work Center Manager                            1\n",
       "Manager                                        1\n",
       "VP                                             1\n",
       "No level                                       1\n",
       "student                                        1\n",
       "Principal                                      3\n",
       "Head                                          43\n",
       "Junior                                        78\n",
       "Lead                                         164\n",
       "Name: Seniority_level, dtype: int64"
      ]
     },
     "metadata": {},
     "output_type": "display_data"
    }
   ],
   "source": [
    "Explore(df_new, 'Seniority_level')"
   ]
  },
  {
   "cell_type": "code",
   "execution_count": 63,
   "metadata": {},
   "outputs": [
    {
     "name": "stdout",
     "output_type": "stream",
     "text": [
      "Null Values: 0\n"
     ]
    }
   ],
   "source": [
    "# To get rid of Bias; we fill half the null values with the most popular and remaining half with the 2nd most popular.\n",
    "fill_by_Mostpop_secndPop(df_new, 'Seniority_level')"
   ]
  },
  {
   "cell_type": "code",
   "execution_count": 64,
   "metadata": {},
   "outputs": [
    {
     "data": {
      "text/plain": [
       "Senior                                       568\n",
       "Middle                                       371\n",
       "Lead                                         164\n",
       "Junior                                        78\n",
       "Head                                          43\n",
       "Principal                                      3\n",
       "Intern                                         1\n",
       "Entry level                                    1\n",
       "Working Student                                1\n",
       "C-Level                                        1\n",
       "no idea, there are no ranges in the firm       1\n",
       "Student                                        1\n",
       "intern                                         1\n",
       "Key                                            1\n",
       "C-level executive manager                      1\n",
       "Director                                       1\n",
       "No level                                       1\n",
       "Work Center Manager                            1\n",
       "Manager                                        1\n",
       "VP                                             1\n",
       "No level                                       1\n",
       "student                                        1\n",
       "Name: Seniority_level, dtype: int64"
      ]
     },
     "execution_count": 64,
     "metadata": {},
     "output_type": "execute_result"
    }
   ],
   "source": [
    "df_new['Seniority_level'].value_counts().head(30)"
   ]
  },
  {
   "cell_type": "code",
   "execution_count": 65,
   "metadata": {},
   "outputs": [],
   "source": [
    "def map_function2(value):\n",
    "    if value in ['Intern', 'Entry Level', 'Working Student', 'Student', 'student', 'intern', 'Junior', 'junior' ]:\n",
    "        return \"Junior\"\n",
    "    elif value in ['Senior', 'Lead', 'Head', 'Principal', 'C-Level', 'Key', 'C-level executive manager', 'Director', 'Manager', 'VP', 'Work Center Manager']:\n",
    "        return \"Senior\"\n",
    "    elif value in [\"Middle\"]:\n",
    "        return \"Middle\"\n",
    "    else:\n",
    "        return \"Other\"\n",
    "\n",
    "df_new[\"Seniority_level\"] = df_new[\"Seniority_level\"].map(map_function2)"
   ]
  },
  {
   "cell_type": "code",
   "execution_count": 66,
   "metadata": {},
   "outputs": [
    {
     "data": {
      "text/plain": [
       "Senior    785\n",
       "Middle    371\n",
       "Junior     83\n",
       "Other       4\n",
       "Name: Seniority_level, dtype: int64"
      ]
     },
     "execution_count": 66,
     "metadata": {},
     "output_type": "execute_result"
    }
   ],
   "source": [
    "df_new['Seniority_level'].value_counts()"
   ]
  },
  {
   "cell_type": "code",
   "execution_count": 67,
   "metadata": {},
   "outputs": [
    {
     "data": {
      "text/plain": [
       "<AxesSubplot:xlabel='Seniority_level', ylabel='count'>"
      ]
     },
     "execution_count": 67,
     "metadata": {},
     "output_type": "execute_result"
    },
    {
     "data": {
      "image/png": "[encoded data removed]",
      "text/plain": [
       "<Figure size 640x480 with 1 Axes>"
      ]
     },
     "metadata": {},
     "output_type": "display_data"
    }
   ],
   "source": [
    "sns.countplot(data=df_new, x='Seniority_level')"
   ]
  },
  {
   "attachments": {},
   "cell_type": "markdown",
   "metadata": {},
   "source": [
    "### Column: Main_Backgrnd"
   ]
  },
  {
   "cell_type": "code",
   "execution_count": 68,
   "metadata": {},
   "outputs": [
    {
     "name": "stdout",
     "output_type": "stream",
     "text": [
      "Unique Values:  252\n",
      "Null Values: 126\n",
      "Type:  object\n"
     ]
    },
    {
     "data": {
      "text/plain": [
       "C++, C#                          1\n",
       "Kotlin/PHP                       1\n",
       "Java Backend                     1\n",
       "SAP ABAP                         1\n",
       "AI                               1\n",
       "pythin                           1\n",
       "Java & PHP                       1\n",
       "Pyrhon                           1\n",
       "C++/c                            1\n",
       "Angular, Typescript              1\n",
       "TypeScript/Angular               1\n",
       "PM tools                         1\n",
       "Grails, Groovy                   1\n",
       "python                           1\n",
       "Python, database technologies    1\n",
       "React / JavaScript               1\n",
       "Perl                             1\n",
       "Python, cloud computing          1\n",
       "golang                           1\n",
       "swift                            1\n",
       "Name: Main_Backgrnd, dtype: int64"
      ]
     },
     "metadata": {},
     "output_type": "display_data"
    }
   ],
   "source": [
    "Explore(df_new, 'Main_Backgrnd')"
   ]
  },
  {
   "cell_type": "code",
   "execution_count": 69,
   "metadata": {},
   "outputs": [
    {
     "data": {
      "text/plain": [
       "Java          183\n",
       "Python        164\n",
       "PHP            56\n",
       "C++            37\n",
       "JavaScript     34\n",
       "Javascript     31\n",
       "C#             29\n",
       "python         26\n",
       "Scala          24\n",
       "Go             23\n",
       "Swift          23\n",
       "Kotlin         22\n",
       "Python         21\n",
       "Ruby           19\n",
       "SQL            14\n",
       "TypeScript     14\n",
       ".NET           13\n",
       "JS             12\n",
       "iOS            10\n",
       "R               9\n",
       "Name: Main_Backgrnd, dtype: int64"
      ]
     },
     "execution_count": 69,
     "metadata": {},
     "output_type": "execute_result"
    }
   ],
   "source": [
    "df_new['Main_Backgrnd'].value_counts().head(20)"
   ]
  },
  {
   "cell_type": "code",
   "execution_count": 70,
   "metadata": {},
   "outputs": [
    {
     "data": {
      "text/plain": [
       "'Java'"
      ]
     },
     "execution_count": 70,
     "metadata": {},
     "output_type": "execute_result"
    }
   ],
   "source": [
    "df_new['Main_Backgrnd'].mode()[0]"
   ]
  },
  {
   "cell_type": "code",
   "execution_count": 71,
   "metadata": {},
   "outputs": [],
   "source": [
    "# Due to my lack of domain knowleadge of the IT industry,I have decided to group the column values as below:\n",
    "def map_function2(value):\n",
    "    if value in ['Java', 'JavaScript', 'Javascript', 'JS', 'Java Backend', 'Java & PHP', 'React / JavaScript']:\n",
    "        return \"Java\"\n",
    "    elif value in ['Python', 'python', 'Python', 'Pyrhon', 'pythin', 'Python, database technologies', 'Python, cloud computing']:\n",
    "        return \"Python\"\n",
    "    elif value in ['C++', 'C#', 'C++, C# ', 'C++/c']:\n",
    "        return \"C++\"\n",
    "    else:\n",
    "        return \"Other\"\n",
    "\n",
    "df_new[\"Main_Backgrnd\"] = df_new[\"Main_Backgrnd\"].map(map_function2)"
   ]
  },
  {
   "cell_type": "code",
   "execution_count": 72,
   "metadata": {},
   "outputs": [],
   "source": [
    "# Intead of fill null values with the most common, decided to fill null values with 'Unknown'\n",
    "df_new['Main_Backgrnd'].fillna('Other', inplace=True)"
   ]
  },
  {
   "cell_type": "code",
   "execution_count": 73,
   "metadata": {},
   "outputs": [
    {
     "data": {
      "text/plain": [
       "<AxesSubplot:xlabel='Main_Backgrnd', ylabel='count'>"
      ]
     },
     "execution_count": 73,
     "metadata": {},
     "output_type": "execute_result"
    },
    {
     "data": {
      "image/png": "[encoded data removed]",
      "text/plain": [
       "<Figure size 640x480 with 1 Axes>"
      ]
     },
     "metadata": {},
     "output_type": "display_data"
    }
   ],
   "source": [
    "sns.countplot(data=df_new, x='Main_Backgrnd')"
   ]
  },
  {
   "attachments": {},
   "cell_type": "markdown",
   "metadata": {},
   "source": [
    "### Column: Other_Backgrnd"
   ]
  },
  {
   "cell_type": "code",
   "execution_count": 74,
   "metadata": {},
   "outputs": [
    {
     "name": "stdout",
     "output_type": "stream",
     "text": [
      "Unique Values:  559\n",
      "Null Values: 154\n",
      "Type:  object\n"
     ]
    },
    {
     "data": {
      "text/plain": [
       "C/C++, Javascript / Typescript, Go, AWS, Docker                                                   1\n",
       "Python, C/C++, Azure, Docker                                                                      1\n",
       "Swift, AWS                                                                                        1\n",
       "Python, C/C++, Javascript / Typescript, Go                                                        1\n",
       "C/C++, SQL, Google Cloud, Docker                                                                  1\n",
       "Javascript / Typescript, SQL, AWS, Google Cloud, Kubernetes, Docker                               1\n",
       "Java / Scala, SQL, AWS, Azure                                                                     1\n",
       "Python, C/C++, Docker, Tensorflow, PyTorch                                                        1\n",
       "Javascript / Typescript, R, SQL, Google Cloud                                                     1\n",
       "C/C++, Javascript / Typescript                                                                    1\n",
       "R, SQL, Google Cloud                                                                              1\n",
       "Python, R, SQL, Azure                                                                             1\n",
       "Javascript / Typescript, R, SQL, AWS, Azure, Docker                                               1\n",
       "Python, Javascript / Typescript, Java / Scala, SQL, AWS, Google Cloud, Docker                     1\n",
       "Python, PHP, Javascript / Typescript, Java / Scala, SQL, AWS, Google Cloud, Kubernetes, Docker    1\n",
       "Python, Kotlin, Go, Kubernetes                                                                    1\n",
       "R, SQL, Perl, Docker                                                                              1\n",
       "Python, R, SQL, AWS, Google Cloud, Azure, Docker                                                  1\n",
       "Python, Kotlin, .NET, SQL, Go, Docker                                                             1\n",
       "Python, C/C++, SQL, Google Cloud, Kubernetes, Docker                                              1\n",
       "Name: Other_Backgrnd, dtype: int64"
      ]
     },
     "metadata": {},
     "output_type": "display_data"
    }
   ],
   "source": [
    "Explore(df_new, 'Other_Backgrnd')"
   ]
  },
  {
   "cell_type": "code",
   "execution_count": 75,
   "metadata": {},
   "outputs": [
    {
     "data": {
      "text/plain": [
       "Javascript / Typescript                      43\n",
       "Python                                       37\n",
       "SQL                                          31\n",
       "AWS, Docker                                  16\n",
       "Kotlin                                       15\n",
       "Python, SQL                                  13\n",
       "C/C++                                        13\n",
       "Swift                                        13\n",
       "Javascript / Typescript, SQL, AWS, Docker    12\n",
       "Kotlin, Java / Scala                         10\n",
       "Python, C/C++                                10\n",
       "Java / Scala                                  9\n",
       "PHP                                           9\n",
       ".NET                                          8\n",
       "Python, SQL, AWS, Kubernetes, Docker          8\n",
       "SQL, AWS, Docker                              8\n",
       "Python, C/C++, Docker                         8\n",
       "Java / Scala, SQL                             8\n",
       "AWS                                           7\n",
       "Javascript / Typescript, AWS, Docker          7\n",
       "Kubernetes, Docker                            7\n",
       "Python, Javascript / Typescript               7\n",
       "Docker                                        7\n",
       "Javascript / Typescript, SQL                  7\n",
       "Javascript / Typescript, SQL, Docker          7\n",
       "Name: Other_Backgrnd, dtype: int64"
      ]
     },
     "execution_count": 75,
     "metadata": {},
     "output_type": "execute_result"
    }
   ],
   "source": [
    "df_new['Other_Backgrnd'].value_counts().head(25)"
   ]
  },
  {
   "cell_type": "code",
   "execution_count": 76,
   "metadata": {},
   "outputs": [
    {
     "name": "stdout",
     "output_type": "stream",
     "text": [
      "Null Values: 0\n"
     ]
    }
   ],
   "source": [
    "# fill null values with the 50/50\n",
    "fill_by_Mostpop_secndPop(df_new, 'Other_Backgrnd')"
   ]
  },
  {
   "cell_type": "code",
   "execution_count": 77,
   "metadata": {},
   "outputs": [
    {
     "data": {
      "text/plain": [
       "Other                                        896\n",
       "Javascript / Typescript                      120\n",
       "Python                                       114\n",
       "SQL                                           31\n",
       "AWS, Docker                                   16\n",
       "Kotlin                                        15\n",
       "C/C++                                         13\n",
       "Swift                                         13\n",
       "Python, SQL                                   13\n",
       "Javascript / Typescript, SQL, AWS, Docker     12\n",
       "Name: Other_Backgrnd, dtype: int64"
      ]
     },
     "execution_count": 77,
     "metadata": {},
     "output_type": "execute_result"
    }
   ],
   "source": [
    "# Using Akeems solution from class problem demo:\n",
    "def replace_low_freq(data, col, threshold=10, replacement='Other'): # using threshold at 10 because value_counts after 10 go crazy\n",
    "    value_counts=data[col].value_counts()\n",
    "    to_remove=value_counts[value_counts <= threshold].index\n",
    "    tmp=data[col].replace(to_replace=to_remove, value=replacement)\n",
    "    return tmp\n",
    "\n",
    "df_new['Other_Backgrnd']=replace_low_freq(df_new, 'Other_Backgrnd', 10, 'Other')\n",
    "df_new['Other_Backgrnd'].value_counts()\n",
    "#print(df_new['Other_Backgrnd'].isnull().sum())"
   ]
  },
  {
   "cell_type": "code",
   "execution_count": 78,
   "metadata": {},
   "outputs": [
    {
     "data": {
      "text/plain": [
       "<AxesSubplot:xlabel='Other_Backgrnd', ylabel='count'>"
      ]
     },
     "execution_count": 78,
     "metadata": {},
     "output_type": "execute_result"
    },
    {
     "data": {
      "image/png": "[encoded data removed]",
      "text/plain": [
       "<Figure size 640x480 with 1 Axes>"
      ]
     },
     "metadata": {},
     "output_type": "display_data"
    }
   ],
   "source": [
    "sns.countplot(data=df_new, x='Other_Backgrnd')"
   ]
  },
  {
   "attachments": {},
   "cell_type": "markdown",
   "metadata": {},
   "source": [
    "### Column: Vaca_days"
   ]
  },
  {
   "cell_type": "code",
   "execution_count": 79,
   "metadata": {},
   "outputs": [
    {
     "name": "stdout",
     "output_type": "stream",
     "text": [
      "Unique Values:  44\n",
      "Null Values: 66\n",
      "Type:  object\n"
     ]
    },
    {
     "data": {
      "text/plain": [
       "30 in contract (but theoretically unlimited)    1\n",
       "60                                              1\n",
       "34                                              1\n",
       "39                                              1\n",
       "37                                              1\n",
       "5                                               1\n",
       "1                                               1\n",
       "37.5                                            1\n",
       "24 labour days                                  1\n",
       "23+                                             1\n",
       "(no idea)                                       1\n",
       "50                                              1\n",
       "38                                              1\n",
       "365                                             1\n",
       "~25                                             1\n",
       "3                                               1\n",
       "16                                              1\n",
       "Unlimited                                       1\n",
       "10                                              1\n",
       "12                                              2\n",
       "Name: Vac_days, dtype: int64"
      ]
     },
     "metadata": {},
     "output_type": "display_data"
    }
   ],
   "source": [
    "Explore(df_new, 'Vac_days')"
   ]
  },
  {
   "cell_type": "code",
   "execution_count": 80,
   "metadata": {},
   "outputs": [
    {
     "name": "stdout",
     "output_type": "stream",
     "text": [
      "Null Values in Vac_days:  79\n",
      "float64\n"
     ]
    },
    {
     "data": {
      "text/plain": [
       "(None, None)"
      ]
     },
     "execution_count": 80,
     "metadata": {},
     "output_type": "execute_result"
    }
   ],
   "source": [
    "convert_to_Num(df_new, 'Vac_days')"
   ]
  },
  {
   "cell_type": "code",
   "execution_count": 81,
   "metadata": {},
   "outputs": [
    {
     "name": "stdout",
     "output_type": "stream",
     "text": [
      "28.30455326460481\n",
      "28.0\n",
      "30.0\n"
     ]
    }
   ],
   "source": [
    "print(df_new['Vac_days'].mean())\n",
    "print(df_new['Vac_days'].median())\n",
    "print(df_new['Vac_days'].mode()[0])"
   ]
  },
  {
   "cell_type": "code",
   "execution_count": 82,
   "metadata": {},
   "outputs": [
    {
     "name": "stdout",
     "output_type": "stream",
     "text": [
      "Null vales in Vac_days:  0\n"
     ]
    }
   ],
   "source": [
    "# According to Google in Germany they have between 25-30 days of allowable vavacation days.\n",
    "# Hence we will use the median value of 28 days for this example. \n",
    "fill_Null_median(df_new, 'Vac_days')"
   ]
  },
  {
   "cell_type": "code",
   "execution_count": 83,
   "metadata": {},
   "outputs": [
    {
     "data": {
      "text/plain": [
       "<AxesSubplot:xlabel='Vac_days', ylabel='Count'>"
      ]
     },
     "execution_count": 83,
     "metadata": {},
     "output_type": "execute_result"
    },
    {
     "data": {
      "image/png": "[encoded data removed]",
      "text/plain": [
       "<Figure size 640x480 with 1 Axes>"
      ]
     },
     "metadata": {},
     "output_type": "display_data"
    }
   ],
   "source": [
    "sns.histplot(data=df_new, x='Vac_days')"
   ]
  },
  {
   "attachments": {},
   "cell_type": "markdown",
   "metadata": {},
   "source": [
    "### Column: Empl_Status"
   ]
  },
  {
   "cell_type": "code",
   "execution_count": 84,
   "metadata": {},
   "outputs": [
    {
     "name": "stdout",
     "output_type": "stream",
     "text": [
      "Unique Values:  11\n",
      "Null Values: 16\n",
      "Type:  object\n"
     ]
    },
    {
     "data": {
      "text/plain": [
       "Company Director                                                                      1\n",
       "working student                                                                       1\n",
       "Working Student                                                                       1\n",
       "Full-time position, part-time position, & self-employed (freelancing, tutoring)       1\n",
       "Intern                                                                                1\n",
       "full-time, but 32 hours per week (it was my request, I'm a student)                   1\n",
       "Werkstudent                                                                           1\n",
       "Founder                                                                               3\n",
       "Part-time employee                                                                    8\n",
       "Self-employed (freelancer)                                                           25\n",
       "Full-time employee                                                                 1184\n",
       "Name: Empl_Status, dtype: int64"
      ]
     },
     "metadata": {},
     "output_type": "display_data"
    }
   ],
   "source": [
    "Explore(df_new, 'Empl_Status')"
   ]
  },
  {
   "cell_type": "code",
   "execution_count": 85,
   "metadata": {},
   "outputs": [
    {
     "data": {
      "text/plain": [
       "Full-time employee                                                                 1184\n",
       "Self-employed (freelancer)                                                           25\n",
       "Part-time employee                                                                    8\n",
       "Founder                                                                               3\n",
       "Company Director                                                                      1\n",
       "working student                                                                       1\n",
       "Working Student                                                                       1\n",
       "Full-time position, part-time position, & self-employed (freelancing, tutoring)       1\n",
       "Intern                                                                                1\n",
       "full-time, but 32 hours per week (it was my request, I'm a student)                   1\n",
       "Werkstudent                                                                           1\n",
       "Name: Empl_Status, dtype: int64"
      ]
     },
     "execution_count": 85,
     "metadata": {},
     "output_type": "execute_result"
    }
   ],
   "source": [
    "df_new['Empl_Status'].value_counts().head(25)"
   ]
  },
  {
   "cell_type": "code",
   "execution_count": 86,
   "metadata": {},
   "outputs": [],
   "source": [
    "def map_function2(value):\n",
    "    if value in ['Full-time employee', 'Founder', 'Company Director', \"full-time, but 32 hours per week (it was my request, I'm a student)\", 'Intern']:\n",
    "        return \"Full_time\"\n",
    "    elif value in [\"Self-employed (freelancer)\"]:\n",
    "        return \"Self_employed\"\n",
    "    elif value in [\"working student\", 'Werkstudent', 'Part-time employee', ]:\n",
    "        return \"Part_time\"\n",
    "    else:\n",
    "        return \"Other\"\n",
    "\n",
    "df_new[\"Empl_Status\"] = df_new[\"Empl_Status\"].map(map_function2)"
   ]
  },
  {
   "cell_type": "code",
   "execution_count": 87,
   "metadata": {},
   "outputs": [
    {
     "data": {
      "text/plain": [
       "Full_time        1190\n",
       "Self_employed      25\n",
       "Other              18\n",
       "Part_time          10\n",
       "Name: Empl_Status, dtype: int64"
      ]
     },
     "execution_count": 87,
     "metadata": {},
     "output_type": "execute_result"
    }
   ],
   "source": [
    "df_new['Empl_Status'].value_counts()"
   ]
  },
  {
   "cell_type": "code",
   "execution_count": 88,
   "metadata": {},
   "outputs": [
    {
     "data": {
      "text/plain": [
       "<AxesSubplot:xlabel='Empl_Status', ylabel='count'>"
      ]
     },
     "execution_count": 88,
     "metadata": {},
     "output_type": "execute_result"
    },
    {
     "data": {
      "image/png": "[encoded data removed]",
      "text/plain": [
       "<Figure size 640x480 with 1 Axes>"
      ]
     },
     "metadata": {},
     "output_type": "display_data"
    }
   ],
   "source": [
    "sns.countplot(data=df_new, x='Empl_Status')"
   ]
  },
  {
   "attachments": {},
   "cell_type": "markdown",
   "metadata": {},
   "source": [
    "### Column: Сontract_duration"
   ]
  },
  {
   "cell_type": "code",
   "execution_count": 89,
   "metadata": {},
   "outputs": [
    {
     "name": "stdout",
     "output_type": "stream",
     "text": [
      "Unique Values:  2\n",
      "Null Values: 26\n",
      "Type:  object\n"
     ]
    },
    {
     "data": {
      "text/plain": [
       "Temporary contract      63\n",
       "Unlimited contract    1154\n",
       "Name: Contract_duration, dtype: int64"
      ]
     },
     "metadata": {},
     "output_type": "display_data"
    }
   ],
   "source": [
    "Explore(df_new, 'Contract_duration')"
   ]
  },
  {
   "cell_type": "code",
   "execution_count": 90,
   "metadata": {},
   "outputs": [
    {
     "name": "stdout",
     "output_type": "stream",
     "text": [
      "Null vales in Contract_duration:  0\n"
     ]
    }
   ],
   "source": [
    "fill_Null_mode(df_new, 'Contract_duration')"
   ]
  },
  {
   "cell_type": "code",
   "execution_count": 91,
   "metadata": {},
   "outputs": [
    {
     "data": {
      "text/plain": [
       "<AxesSubplot:xlabel='Contract_duration', ylabel='count'>"
      ]
     },
     "execution_count": 91,
     "metadata": {},
     "output_type": "execute_result"
    },
    {
     "data": {
      "image/png": "[encoded data removed]",
      "text/plain": [
       "<Figure size 640x480 with 1 Axes>"
      ]
     },
     "metadata": {},
     "output_type": "display_data"
    }
   ],
   "source": [
    "sns.countplot(data=df_new, x='Contract_duration')"
   ]
  },
  {
   "attachments": {},
   "cell_type": "markdown",
   "metadata": {},
   "source": [
    "### Column: Main_Work_Lang"
   ]
  },
  {
   "cell_type": "code",
   "execution_count": 92,
   "metadata": {},
   "outputs": [
    {
     "name": "stdout",
     "output_type": "stream",
     "text": [
      "Unique Values:  14\n",
      "Null Values: 15\n",
      "Type:  object\n"
     ]
    },
    {
     "data": {
      "text/plain": [
       "50/50                    1\n",
       "Deuglisch                1\n",
       "French                   1\n",
       "both                     1\n",
       "Russian, English         1\n",
       "English and German       2\n",
       "Polish                   2\n",
       "Русский                  2\n",
       "Czech                    2\n",
       "Italian                  3\n",
       "Spanish                  3\n",
       "Russian                 12\n",
       "German                 185\n",
       "English               1012\n",
       "Name: Main_Work_Lang, dtype: int64"
      ]
     },
     "metadata": {},
     "output_type": "display_data"
    }
   ],
   "source": [
    "Explore(df_new, 'Main_Work_Lang')"
   ]
  },
  {
   "cell_type": "code",
   "execution_count": 93,
   "metadata": {},
   "outputs": [
    {
     "name": "stdout",
     "output_type": "stream",
     "text": [
      "Null Values: 0\n"
     ]
    }
   ],
   "source": [
    "# Here since English and German are he two most popular, we can use the 50/50 fill method.\n",
    "fill_by_Mostpop_secndPop(df_new, 'Main_Work_Lang')"
   ]
  },
  {
   "cell_type": "code",
   "execution_count": 94,
   "metadata": {},
   "outputs": [],
   "source": [
    "def map_function3(value):\n",
    "    if value in ['English', 'English and German', \"Russian, English\"]:\n",
    "        return \"English\"\n",
    "    elif value in [\"Deuglisch\", 'German']:\n",
    "        return \"German\"\n",
    "    else:\n",
    "        return \"Other\"\n",
    "\n",
    "df_new[\"Main_Work_Lang\"] = df_new[\"Main_Work_Lang\"].map(map_function3)"
   ]
  },
  {
   "cell_type": "code",
   "execution_count": 95,
   "metadata": {},
   "outputs": [
    {
     "data": {
      "text/plain": [
       "English    1022\n",
       "German      194\n",
       "Other        27\n",
       "Name: Main_Work_Lang, dtype: int64"
      ]
     },
     "execution_count": 95,
     "metadata": {},
     "output_type": "execute_result"
    }
   ],
   "source": [
    "df_new['Main_Work_Lang'].value_counts()"
   ]
  },
  {
   "cell_type": "code",
   "execution_count": 96,
   "metadata": {},
   "outputs": [
    {
     "data": {
      "text/plain": [
       "<AxesSubplot:xlabel='Main_Work_Lang', ylabel='count'>"
      ]
     },
     "execution_count": 96,
     "metadata": {},
     "output_type": "execute_result"
    },
    {
     "data": {
      "image/png": "[encoded data removed]",
      "text/plain": [
       "<Figure size 640x480 with 1 Axes>"
      ]
     },
     "metadata": {},
     "output_type": "display_data"
    }
   ],
   "source": [
    "sns.countplot(data=df_new, x='Main_Work_Lang')"
   ]
  },
  {
   "attachments": {},
   "cell_type": "markdown",
   "metadata": {},
   "source": [
    "### Column: Company size"
   ]
  },
  {
   "cell_type": "code",
   "execution_count": 97,
   "metadata": {},
   "outputs": [
    {
     "name": "stdout",
     "output_type": "stream",
     "text": [
      "Unique Values:  5\n",
      "Null Values: 17\n",
      "Type:  object\n"
     ]
    },
    {
     "data": {
      "text/plain": [
       "up to 10     58\n",
       "51-100      147\n",
       "11-50       173\n",
       "101-1000    402\n",
       "1000+       446\n",
       "Name: Company_size, dtype: int64"
      ]
     },
     "metadata": {},
     "output_type": "display_data"
    }
   ],
   "source": [
    "Explore(df_new, 'Company_size')"
   ]
  },
  {
   "cell_type": "code",
   "execution_count": 98,
   "metadata": {},
   "outputs": [
    {
     "name": "stdout",
     "output_type": "stream",
     "text": [
      "Null Values: 0\n"
     ]
    }
   ],
   "source": [
    "fill_by_Mostpop_secndPop(df_new, 'Company_size')"
   ]
  },
  {
   "cell_type": "code",
   "execution_count": 99,
   "metadata": {},
   "outputs": [],
   "source": [
    "# Function to map Values to reduce the value_counts()\n",
    "def map_function4(value):\n",
    "    if value in ['up to 10', '11-50']:\n",
    "        return \"Small\"\n",
    "    elif value in ['51-100']:\n",
    "        return \"Medium\"\n",
    "    elif value in ['101-1000', '1000+']:\n",
    "        return \"Large\"\n",
    "\n",
    "df_new[\"Company_size\"] = df_new[\"Company_size\"].map(map_function4)"
   ]
  },
  {
   "cell_type": "code",
   "execution_count": 100,
   "metadata": {},
   "outputs": [],
   "source": [
    "# FOR the sake of PRACTICE.......\n",
    "# We can maybe re categorize this to VSmall, Small, Medium, Large and Huge\n",
    "#df_new['Company_size']=df_new['Company_size'].map({'up to 10':'VSmall', '11-50':'Small', '51-100':'Medium', '101-1000':'Large', '1000+':'Huge'})\n",
    "#df_new['Company_size'].value_counts().nsmallest(n=30)"
   ]
  },
  {
   "cell_type": "code",
   "execution_count": 101,
   "metadata": {},
   "outputs": [
    {
     "data": {
      "text/plain": [
       "Large     865\n",
       "Small     231\n",
       "Medium    147\n",
       "Name: Company_size, dtype: int64"
      ]
     },
     "execution_count": 101,
     "metadata": {},
     "output_type": "execute_result"
    }
   ],
   "source": [
    "df_new['Company_size'].value_counts()"
   ]
  },
  {
   "cell_type": "code",
   "execution_count": 102,
   "metadata": {},
   "outputs": [
    {
     "data": {
      "text/plain": [
       "<AxesSubplot:xlabel='Company_size', ylabel='count'>"
      ]
     },
     "execution_count": 102,
     "metadata": {},
     "output_type": "execute_result"
    },
    {
     "data": {
      "image/png": "[encoded data removed]",
      "text/plain": [
       "<Figure size 640x480 with 1 Axes>"
      ]
     },
     "metadata": {},
     "output_type": "display_data"
    }
   ],
   "source": [
    "sns.countplot(data=df_new, x='Company_size')"
   ]
  },
  {
   "attachments": {},
   "cell_type": "markdown",
   "metadata": {},
   "source": [
    "### Column: Company type"
   ]
  },
  {
   "cell_type": "code",
   "execution_count": 103,
   "metadata": {},
   "outputs": [
    {
     "name": "stdout",
     "output_type": "stream",
     "text": [
      "Unique Values:  62\n",
      "Null Values: 24\n",
      "Type:  object\n"
     ]
    },
    {
     "data": {
      "text/plain": [
       "Non-tech retail                                                             1\n",
       "Research institute                                                          1\n",
       "Retail                                                                      1\n",
       "Outsourse                                                                   1\n",
       "Ecommerce                                                                   1\n",
       "E-Commerce                                                                  1\n",
       "Semiconductor                                                               1\n",
       "Automotive                                                                  1\n",
       "Institute                                                                   1\n",
       "Old industry                                                                1\n",
       "Handel                                                                      1\n",
       "FAANG                                                                       1\n",
       "Consulting and Product                                                      1\n",
       "Education                                                                   1\n",
       "Pharma                                                                      1\n",
       "Full-time position in Education, part-time position in at a data startup    1\n",
       "Industry                                                                    1\n",
       "Science Institute                                                           1\n",
       "Multinational                                                               1\n",
       "Transport & Logistics                                                       1\n",
       "Name: Company_type, dtype: int64"
      ]
     },
     "metadata": {},
     "output_type": "display_data"
    }
   ],
   "source": [
    "Explore(df_new, 'Company_type')"
   ]
  },
  {
   "cell_type": "code",
   "execution_count": 104,
   "metadata": {},
   "outputs": [
    {
     "data": {
      "text/plain": [
       "Product                756\n",
       "Startup                249\n",
       "Consulting / Agency    141\n",
       "Bank                     5\n",
       "Media                    3\n",
       "                      ... \n",
       "Publisher                1\n",
       "Energy                   1\n",
       "Enterprise               1\n",
       "service                  1\n",
       "eCommerce                1\n",
       "Name: Company_type, Length: 62, dtype: int64"
      ]
     },
     "execution_count": 104,
     "metadata": {},
     "output_type": "execute_result"
    }
   ],
   "source": [
    "df_new['Company_type'].value_counts()"
   ]
  },
  {
   "cell_type": "code",
   "execution_count": 105,
   "metadata": {},
   "outputs": [
    {
     "name": "stdout",
     "output_type": "stream",
     "text": [
      "Null Values: 0\n"
     ]
    }
   ],
   "source": [
    "# Use the 50/50 fill method\n",
    "fill_by_Mostpop_secndPop(df_new, 'Company_type')"
   ]
  },
  {
   "cell_type": "code",
   "execution_count": 106,
   "metadata": {},
   "outputs": [],
   "source": [
    "# Function to map Values to reduce the value_counts()\n",
    "def map_function4(value):\n",
    "    if value in ['Product']:\n",
    "        return \"Product\"\n",
    "    elif value in ['Startup']:\n",
    "        return \"Startup\"\n",
    "    elif value in ['Consulting / Agency']:\n",
    "        return \"Consulting-Agency\"\n",
    "    else:\n",
    "        return 'Other'\n",
    "\n",
    "df_new[\"Company_type\"] = df_new[\"Company_type\"].map(map_function4)\n"
   ]
  },
  {
   "cell_type": "code",
   "execution_count": 107,
   "metadata": {},
   "outputs": [
    {
     "data": {
      "text/plain": [
       "Product              768\n",
       "Startup              261\n",
       "Consulting-Agency    141\n",
       "Other                 73\n",
       "Name: Company_type, dtype: int64"
      ]
     },
     "execution_count": 107,
     "metadata": {},
     "output_type": "execute_result"
    }
   ],
   "source": [
    "df_new['Company_type'].value_counts()"
   ]
  },
  {
   "cell_type": "code",
   "execution_count": 108,
   "metadata": {},
   "outputs": [
    {
     "data": {
      "text/plain": [
       "<AxesSubplot:xlabel='Company_type', ylabel='count'>"
      ]
     },
     "execution_count": 108,
     "metadata": {},
     "output_type": "execute_result"
    },
    {
     "data": {
      "image/png": "[encoded data removed]",
      "text/plain": [
       "<Figure size 640x480 with 1 Axes>"
      ]
     },
     "metadata": {},
     "output_type": "display_data"
    }
   ],
   "source": [
    "sns.countplot(data=df_new, x='Company_type')"
   ]
  },
  {
   "attachments": {},
   "cell_type": "markdown",
   "metadata": {},
   "source": [
    "Results of Data Wrangling to clean the datarame"
   ]
  },
  {
   "cell_type": "code",
   "execution_count": 109,
   "metadata": {},
   "outputs": [
    {
     "data": {
      "text/plain": [
       "Age                  0\n",
       "Gender               0\n",
       "City                 0\n",
       "Position             0\n",
       "Total_yrs_Exp        0\n",
       "German_Exp           0\n",
       "Seniority_level      0\n",
       "Main_Backgrnd        0\n",
       "Other_Backgrnd       0\n",
       "Vac_days             0\n",
       "Empl_Status          0\n",
       "Contract_duration    0\n",
       "Main_Work_Lang       0\n",
       "Company_size         0\n",
       "Company_type         0\n",
       "Target               0\n",
       "dtype: int64"
      ]
     },
     "metadata": {},
     "output_type": "display_data"
    },
    {
     "name": "stdout",
     "output_type": "stream",
     "text": [
      "(1243, 16)\n"
     ]
    }
   ],
   "source": [
    "display(df_new.isnull().sum())\n",
    "print(df_new.shape)"
   ]
  },
  {
   "cell_type": "code",
   "execution_count": 110,
   "metadata": {},
   "outputs": [
    {
     "name": "stdout",
     "output_type": "stream",
     "text": [
      "<class 'pandas.core.frame.DataFrame'>\n",
      "Int64Index: 1243 entries, 0 to 1252\n",
      "Data columns (total 16 columns):\n",
      " #   Column             Non-Null Count  Dtype  \n",
      "---  ------             --------------  -----  \n",
      " 0   Age                1243 non-null   float64\n",
      " 1   Gender             1243 non-null   object \n",
      " 2   City               1243 non-null   object \n",
      " 3   Position           1243 non-null   object \n",
      " 4   Total_yrs_Exp      1243 non-null   float64\n",
      " 5   German_Exp         1243 non-null   float64\n",
      " 6   Seniority_level    1243 non-null   object \n",
      " 7   Main_Backgrnd      1243 non-null   object \n",
      " 8   Other_Backgrnd     1243 non-null   object \n",
      " 9   Vac_days           1243 non-null   float64\n",
      " 10  Empl_Status        1243 non-null   object \n",
      " 11  Contract_duration  1243 non-null   object \n",
      " 12  Main_Work_Lang     1243 non-null   object \n",
      " 13  Company_size       1243 non-null   object \n",
      " 14  Company_type       1243 non-null   object \n",
      " 15  Target             1243 non-null   float64\n",
      "dtypes: float64(5), object(11)\n",
      "memory usage: 197.4+ KB\n"
     ]
    }
   ],
   "source": [
    "df_new.info()"
   ]
  },
  {
   "cell_type": "code",
   "execution_count": 111,
   "metadata": {},
   "outputs": [
    {
     "data": {
      "text/html": [
       "<div>\n",
       "<style scoped>\n",
       "    .dataframe tbody tr th:only-of-type {\n",
       "        vertical-align: middle;\n",
       "    }\n",
       "\n",
       "    .dataframe tbody tr th {\n",
       "        vertical-align: top;\n",
       "    }\n",
       "\n",
       "    .dataframe thead th {\n",
       "        text-align: right;\n",
       "    }\n",
       "</style>\n",
       "<table border=\"1\" class=\"dataframe\">\n",
       "  <thead>\n",
       "    <tr style=\"text-align: right;\">\n",
       "      <th></th>\n",
       "      <th>count</th>\n",
       "      <th>mean</th>\n",
       "      <th>std</th>\n",
       "      <th>min</th>\n",
       "      <th>25%</th>\n",
       "      <th>50%</th>\n",
       "      <th>75%</th>\n",
       "      <th>max</th>\n",
       "    </tr>\n",
       "  </thead>\n",
       "  <tbody>\n",
       "    <tr>\n",
       "      <th>Age</th>\n",
       "      <td>1243.0</td>\n",
       "      <td>32.489139</td>\n",
       "      <td>5.583692</td>\n",
       "      <td>21.0</td>\n",
       "      <td>29.00</td>\n",
       "      <td>32.0</td>\n",
       "      <td>35.0</td>\n",
       "      <td>69.0</td>\n",
       "    </tr>\n",
       "    <tr>\n",
       "      <th>Total_yrs_Exp</th>\n",
       "      <td>1243.0</td>\n",
       "      <td>9.044608</td>\n",
       "      <td>11.823958</td>\n",
       "      <td>0.0</td>\n",
       "      <td>5.00</td>\n",
       "      <td>8.0</td>\n",
       "      <td>12.0</td>\n",
       "      <td>383.0</td>\n",
       "    </tr>\n",
       "    <tr>\n",
       "      <th>German_Exp</th>\n",
       "      <td>1243.0</td>\n",
       "      <td>3.694690</td>\n",
       "      <td>3.561588</td>\n",
       "      <td>0.0</td>\n",
       "      <td>1.25</td>\n",
       "      <td>3.0</td>\n",
       "      <td>5.0</td>\n",
       "      <td>30.0</td>\n",
       "    </tr>\n",
       "    <tr>\n",
       "      <th>Vac_days</th>\n",
       "      <td>1243.0</td>\n",
       "      <td>28.285197</td>\n",
       "      <td>10.201360</td>\n",
       "      <td>0.0</td>\n",
       "      <td>27.00</td>\n",
       "      <td>28.0</td>\n",
       "      <td>30.0</td>\n",
       "      <td>365.0</td>\n",
       "    </tr>\n",
       "    <tr>\n",
       "      <th>Target</th>\n",
       "      <td>1243.0</td>\n",
       "      <td>83479.288479</td>\n",
       "      <td>50622.164524</td>\n",
       "      <td>10001.0</td>\n",
       "      <td>60000.00</td>\n",
       "      <td>73000.0</td>\n",
       "      <td>90000.0</td>\n",
       "      <td>1240000.0</td>\n",
       "    </tr>\n",
       "  </tbody>\n",
       "</table>\n",
       "</div>"
      ],
      "text/plain": [
       "                count          mean           std      min       25%      50%  \\\n",
       "Age            1243.0     32.489139      5.583692     21.0     29.00     32.0   \n",
       "Total_yrs_Exp  1243.0      9.044608     11.823958      0.0      5.00      8.0   \n",
       "German_Exp     1243.0      3.694690      3.561588      0.0      1.25      3.0   \n",
       "Vac_days       1243.0     28.285197     10.201360      0.0     27.00     28.0   \n",
       "Target         1243.0  83479.288479  50622.164524  10001.0  60000.00  73000.0   \n",
       "\n",
       "                   75%        max  \n",
       "Age               35.0       69.0  \n",
       "Total_yrs_Exp     12.0      383.0  \n",
       "German_Exp         5.0       30.0  \n",
       "Vac_days          30.0      365.0  \n",
       "Target         90000.0  1240000.0  "
      ]
     },
     "execution_count": 111,
     "metadata": {},
     "output_type": "execute_result"
    }
   ],
   "source": [
    "df_new.describe().T"
   ]
  },
  {
   "cell_type": "code",
   "execution_count": 112,
   "metadata": {},
   "outputs": [
    {
     "data": {
      "text/plain": [
       "<AxesSubplot:>"
      ]
     },
     "execution_count": 112,
     "metadata": {},
     "output_type": "execute_result"
    },
    {
     "data": {
      "image/png": "[encoded data removed]",
      "text/plain": [
       "<Figure size 640x480 with 2 Axes>"
      ]
     },
     "metadata": {},
     "output_type": "display_data"
    }
   ],
   "source": [
    "sns.heatmap(df_new.corr(method='spearman'), annot=True)"
   ]
  },
  {
   "cell_type": "code",
   "execution_count": 113,
   "metadata": {},
   "outputs": [],
   "source": [
    "df_new.to_csv('Clean_File.csv')"
   ]
  },
  {
   "cell_type": "code",
   "execution_count": 114,
   "metadata": {},
   "outputs": [
    {
     "name": "stdout",
     "output_type": "stream",
     "text": [
      "Index(['Age', 'Total_yrs_Exp', 'German_Exp', 'Vac_days', 'Target'], dtype='object')\n"
     ]
    }
   ],
   "source": [
    "# View the Numerical Columns\n",
    "print(df_new.select_dtypes(include=[np.number]).columns) # Numerical Columns"
   ]
  },
  {
   "cell_type": "code",
   "execution_count": 115,
   "metadata": {},
   "outputs": [
    {
     "name": "stdout",
     "output_type": "stream",
     "text": [
      "Index(['Gender', 'City', 'Position', 'Seniority_level', 'Main_Backgrnd',\n",
      "       'Other_Backgrnd', 'Empl_Status', 'Contract_duration', 'Main_Work_Lang',\n",
      "       'Company_size', 'Company_type'],\n",
      "      dtype='object')\n"
     ]
    }
   ],
   "source": [
    "# View the Categorical Columns\n",
    "print(df_new.select_dtypes(exclude=[np.number]).columns) # Categorical Columns"
   ]
  },
  {
   "cell_type": "code",
   "execution_count": 116,
   "metadata": {},
   "outputs": [
    {
     "name": "stdout",
     "output_type": "stream",
     "text": [
      "<class 'pandas.core.frame.DataFrame'>\n",
      "Int64Index: 1243 entries, 0 to 1252\n",
      "Data columns (total 16 columns):\n",
      " #   Column             Non-Null Count  Dtype   \n",
      "---  ------             --------------  -----   \n",
      " 0   Age                1243 non-null   float64 \n",
      " 1   Gender             1243 non-null   category\n",
      " 2   City               1243 non-null   category\n",
      " 3   Position           1243 non-null   category\n",
      " 4   Total_yrs_Exp      1243 non-null   float64 \n",
      " 5   German_Exp         1243 non-null   float64 \n",
      " 6   Seniority_level    1243 non-null   category\n",
      " 7   Main_Backgrnd      1243 non-null   category\n",
      " 8   Other_Backgrnd     1243 non-null   category\n",
      " 9   Vac_days           1243 non-null   float64 \n",
      " 10  Empl_Status        1243 non-null   category\n",
      " 11  Contract_duration  1243 non-null   category\n",
      " 12  Main_Work_Lang     1243 non-null   category\n",
      " 13  Company_size       1243 non-null   category\n",
      " 14  Company_type       1243 non-null   category\n",
      " 15  Target             1243 non-null   float64 \n",
      "dtypes: category(11), float64(5)\n",
      "memory usage: 105.9 KB\n"
     ]
    }
   ],
   "source": [
    "# Convert Object columns to Categorical Columns\n",
    "for col in (df_new.select_dtypes(exclude=[np.number]).columns):\n",
    "    df_new[col]=df_new[col].astype('category')\n",
    "\n",
    "    \n",
    "df_new.info()"
   ]
  },
  {
   "cell_type": "code",
   "execution_count": 117,
   "metadata": {},
   "outputs": [],
   "source": [
    "df_new.to_csv('Clean_File.csv')"
   ]
  },
  {
   "attachments": {},
   "cell_type": "markdown",
   "metadata": {},
   "source": [
    "# Part 2: Regression\n"
   ]
  }
 ],
 "metadata": {
  "kernelspec": {
   "display_name": "base",
   "language": "python",
   "name": "python3"
  },
  "language_info": {
   "codemirror_mode": {
    "name": "ipython",
    "version": 3
   },
   "file_extension": ".py",
   "mimetype": "text/x-python",
   "name": "python",
   "nbconvert_exporter": "python",
   "pygments_lexer": "ipython3",
   "version": "3.9.13"
  },
  "orig_nbformat": 4,
  "vscode": {
   "interpreter": {
    "hash": "bdbdacd0101e68079a1bddb8194690255e5689c62d1f789cd03eec87f1fa8a92"
   }
  }
 },
 "nbformat": 4,
 "nbformat_minor": 2
}
